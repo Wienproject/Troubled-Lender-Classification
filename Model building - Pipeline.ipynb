{
 "cells": [
  {
   "cell_type": "markdown",
   "metadata": {},
   "source": [
    "# Problem Statement\n",
    "\n",
    "For most financial institutions, such as banks and multi-finance companies, their main source of income is coming from their lending activities. By engaging in this activity, it means that lenders are exposed to the potential risk, where debtors stop repaying their loans, causing losses to the lenders. To mitigate this loss, lenders are expected to appropriately choose who are qualified for a loan, at what rate, and at what amount.  \n",
    "In this question, you are tasked to help the troubled lenders with this problem by creating a model that can help them make their decision. "
   ]
  },
  {
   "cell_type": "code",
   "execution_count": 1,
   "metadata": {},
   "outputs": [],
   "source": [
    "import pandas as pd\n",
    "import numpy as np\n",
    "import seaborn as sns\n",
    "import matplotlib.pyplot as plt\n",
    "from sklearn.preprocessing import LabelEncoder,OneHotEncoder\n",
    "\n",
    "\n",
    "%matplotlib inline\n",
    "\n",
    "from sklearn import set_config\n",
    "set_config(print_changed_only=False)\n",
    "\n",
    "import warnings\n",
    "warnings.filterwarnings('ignore')"
   ]
  },
  {
   "cell_type": "markdown",
   "metadata": {},
   "source": [
    "## Data Extraction"
   ]
  },
  {
   "cell_type": "code",
   "execution_count": 2,
   "metadata": {},
   "outputs": [],
   "source": [
    "df = pd.read_csv('app_train.csv')\n",
    "df.drop(columns=['Unnamed: 0'],inplace=True)"
   ]
  },
  {
   "cell_type": "code",
   "execution_count": 3,
   "metadata": {},
   "outputs": [
    {
     "data": {
      "text/plain": [
       "(61503, 23)"
      ]
     },
     "execution_count": 3,
     "metadata": {},
     "output_type": "execute_result"
    }
   ],
   "source": [
    "df.shape"
   ]
  },
  {
   "cell_type": "code",
   "execution_count": 4,
   "metadata": {},
   "outputs": [
    {
     "data": {
      "text/html": [
       "<div>\n",
       "<style scoped>\n",
       "    .dataframe tbody tr th:only-of-type {\n",
       "        vertical-align: middle;\n",
       "    }\n",
       "\n",
       "    .dataframe tbody tr th {\n",
       "        vertical-align: top;\n",
       "    }\n",
       "\n",
       "    .dataframe thead th {\n",
       "        text-align: right;\n",
       "    }\n",
       "</style>\n",
       "<table border=\"1\" class=\"dataframe\">\n",
       "  <thead>\n",
       "    <tr style=\"text-align: right;\">\n",
       "      <th></th>\n",
       "      <th>Data Feature</th>\n",
       "      <th>Data Types</th>\n",
       "      <th>Null</th>\n",
       "      <th>Null Percentages</th>\n",
       "      <th>Unique</th>\n",
       "      <th>Unique Sample</th>\n",
       "    </tr>\n",
       "  </thead>\n",
       "  <tbody>\n",
       "    <tr>\n",
       "      <th>0</th>\n",
       "      <td>LN_ID</td>\n",
       "      <td>int64</td>\n",
       "      <td>0</td>\n",
       "      <td>0.00</td>\n",
       "      <td>61503</td>\n",
       "      <td>[158521, 101796]</td>\n",
       "    </tr>\n",
       "    <tr>\n",
       "      <th>1</th>\n",
       "      <td>TARGET</td>\n",
       "      <td>int64</td>\n",
       "      <td>0</td>\n",
       "      <td>0.00</td>\n",
       "      <td>2</td>\n",
       "      <td>[1, 0]</td>\n",
       "    </tr>\n",
       "    <tr>\n",
       "      <th>2</th>\n",
       "      <td>CONTRACT_TYPE</td>\n",
       "      <td>object</td>\n",
       "      <td>0</td>\n",
       "      <td>0.00</td>\n",
       "      <td>2</td>\n",
       "      <td>[Revolving loans, Cash loans]</td>\n",
       "    </tr>\n",
       "    <tr>\n",
       "      <th>3</th>\n",
       "      <td>GENDER</td>\n",
       "      <td>object</td>\n",
       "      <td>0</td>\n",
       "      <td>0.00</td>\n",
       "      <td>2</td>\n",
       "      <td>[F, M]</td>\n",
       "    </tr>\n",
       "    <tr>\n",
       "      <th>4</th>\n",
       "      <td>NUM_CHILDREN</td>\n",
       "      <td>int64</td>\n",
       "      <td>0</td>\n",
       "      <td>0.00</td>\n",
       "      <td>10</td>\n",
       "      <td>[1, 3]</td>\n",
       "    </tr>\n",
       "    <tr>\n",
       "      <th>5</th>\n",
       "      <td>INCOME</td>\n",
       "      <td>float64</td>\n",
       "      <td>0</td>\n",
       "      <td>0.00</td>\n",
       "      <td>861</td>\n",
       "      <td>[169137.0, 184203.0]</td>\n",
       "    </tr>\n",
       "    <tr>\n",
       "      <th>6</th>\n",
       "      <td>APPROVED_CREDIT</td>\n",
       "      <td>float64</td>\n",
       "      <td>0</td>\n",
       "      <td>0.00</td>\n",
       "      <td>3562</td>\n",
       "      <td>[528637.5, 522000.0]</td>\n",
       "    </tr>\n",
       "    <tr>\n",
       "      <th>7</th>\n",
       "      <td>ANNUITY</td>\n",
       "      <td>float64</td>\n",
       "      <td>1</td>\n",
       "      <td>0.00</td>\n",
       "      <td>9374</td>\n",
       "      <td>[50791.5, 47574.0]</td>\n",
       "    </tr>\n",
       "    <tr>\n",
       "      <th>8</th>\n",
       "      <td>PRICE</td>\n",
       "      <td>float64</td>\n",
       "      <td>62</td>\n",
       "      <td>0.10</td>\n",
       "      <td>541</td>\n",
       "      <td>[2196000.0, 268420.5]</td>\n",
       "    </tr>\n",
       "    <tr>\n",
       "      <th>9</th>\n",
       "      <td>INCOME_TYPE</td>\n",
       "      <td>object</td>\n",
       "      <td>0</td>\n",
       "      <td>0.00</td>\n",
       "      <td>7</td>\n",
       "      <td>[Pensioner, Unemployed]</td>\n",
       "    </tr>\n",
       "    <tr>\n",
       "      <th>10</th>\n",
       "      <td>EDUCATION</td>\n",
       "      <td>object</td>\n",
       "      <td>0</td>\n",
       "      <td>0.00</td>\n",
       "      <td>5</td>\n",
       "      <td>[Higher education, Lower secondary]</td>\n",
       "    </tr>\n",
       "    <tr>\n",
       "      <th>11</th>\n",
       "      <td>FAMILY_STATUS</td>\n",
       "      <td>object</td>\n",
       "      <td>0</td>\n",
       "      <td>0.00</td>\n",
       "      <td>5</td>\n",
       "      <td>[Married, Single / not married]</td>\n",
       "    </tr>\n",
       "    <tr>\n",
       "      <th>12</th>\n",
       "      <td>HOUSING_TYPE</td>\n",
       "      <td>object</td>\n",
       "      <td>0</td>\n",
       "      <td>0.00</td>\n",
       "      <td>6</td>\n",
       "      <td>[Rented apartment, Co-op apartment]</td>\n",
       "    </tr>\n",
       "    <tr>\n",
       "      <th>13</th>\n",
       "      <td>DAYS_AGE</td>\n",
       "      <td>int64</td>\n",
       "      <td>0</td>\n",
       "      <td>0.00</td>\n",
       "      <td>16257</td>\n",
       "      <td>[-14650, -16038]</td>\n",
       "    </tr>\n",
       "    <tr>\n",
       "      <th>14</th>\n",
       "      <td>DAYS_WORK</td>\n",
       "      <td>int64</td>\n",
       "      <td>0</td>\n",
       "      <td>0.00</td>\n",
       "      <td>8524</td>\n",
       "      <td>[-8421, -4462]</td>\n",
       "    </tr>\n",
       "    <tr>\n",
       "      <th>15</th>\n",
       "      <td>DAYS_REGISTRATION</td>\n",
       "      <td>float64</td>\n",
       "      <td>0</td>\n",
       "      <td>0.00</td>\n",
       "      <td>13153</td>\n",
       "      <td>[-7548.0, -6788.0]</td>\n",
       "    </tr>\n",
       "    <tr>\n",
       "      <th>16</th>\n",
       "      <td>DAYS_ID_CHANGE</td>\n",
       "      <td>int64</td>\n",
       "      <td>0</td>\n",
       "      <td>0.00</td>\n",
       "      <td>5824</td>\n",
       "      <td>[-3775, -5256]</td>\n",
       "    </tr>\n",
       "    <tr>\n",
       "      <th>17</th>\n",
       "      <td>WEEKDAYS_APPLY</td>\n",
       "      <td>object</td>\n",
       "      <td>0</td>\n",
       "      <td>0.00</td>\n",
       "      <td>7</td>\n",
       "      <td>[MONDAY, WEDNESDAY]</td>\n",
       "    </tr>\n",
       "    <tr>\n",
       "      <th>18</th>\n",
       "      <td>HOUR_APPLY</td>\n",
       "      <td>int64</td>\n",
       "      <td>0</td>\n",
       "      <td>0.00</td>\n",
       "      <td>24</td>\n",
       "      <td>[23, 11]</td>\n",
       "    </tr>\n",
       "    <tr>\n",
       "      <th>19</th>\n",
       "      <td>ORGANIZATION_TYPE</td>\n",
       "      <td>object</td>\n",
       "      <td>0</td>\n",
       "      <td>0.00</td>\n",
       "      <td>58</td>\n",
       "      <td>[University, Mobile]</td>\n",
       "    </tr>\n",
       "    <tr>\n",
       "      <th>20</th>\n",
       "      <td>EXT_SCORE_1</td>\n",
       "      <td>float64</td>\n",
       "      <td>34845</td>\n",
       "      <td>56.66</td>\n",
       "      <td>25814</td>\n",
       "      <td>[0.4261406005143626, 0.09497059803601827]</td>\n",
       "    </tr>\n",
       "    <tr>\n",
       "      <th>21</th>\n",
       "      <td>EXT_SCORE_2</td>\n",
       "      <td>float64</td>\n",
       "      <td>134</td>\n",
       "      <td>0.22</td>\n",
       "      <td>46296</td>\n",
       "      <td>[0.6928648758484597, 0.6315949576118901]</td>\n",
       "    </tr>\n",
       "    <tr>\n",
       "      <th>22</th>\n",
       "      <td>EXT_SCORE_3</td>\n",
       "      <td>float64</td>\n",
       "      <td>12239</td>\n",
       "      <td>19.90</td>\n",
       "      <td>744</td>\n",
       "      <td>[0.08118594316672112, 0.1694287272664794]</td>\n",
       "    </tr>\n",
       "  </tbody>\n",
       "</table>\n",
       "</div>"
      ],
      "text/plain": [
       "         Data Feature Data Types   Null  Null Percentages  Unique  \\\n",
       "0               LN_ID      int64      0              0.00   61503   \n",
       "1              TARGET      int64      0              0.00       2   \n",
       "2       CONTRACT_TYPE     object      0              0.00       2   \n",
       "3              GENDER     object      0              0.00       2   \n",
       "4        NUM_CHILDREN      int64      0              0.00      10   \n",
       "5              INCOME    float64      0              0.00     861   \n",
       "6     APPROVED_CREDIT    float64      0              0.00    3562   \n",
       "7             ANNUITY    float64      1              0.00    9374   \n",
       "8               PRICE    float64     62              0.10     541   \n",
       "9         INCOME_TYPE     object      0              0.00       7   \n",
       "10          EDUCATION     object      0              0.00       5   \n",
       "11      FAMILY_STATUS     object      0              0.00       5   \n",
       "12       HOUSING_TYPE     object      0              0.00       6   \n",
       "13           DAYS_AGE      int64      0              0.00   16257   \n",
       "14          DAYS_WORK      int64      0              0.00    8524   \n",
       "15  DAYS_REGISTRATION    float64      0              0.00   13153   \n",
       "16     DAYS_ID_CHANGE      int64      0              0.00    5824   \n",
       "17     WEEKDAYS_APPLY     object      0              0.00       7   \n",
       "18         HOUR_APPLY      int64      0              0.00      24   \n",
       "19  ORGANIZATION_TYPE     object      0              0.00      58   \n",
       "20        EXT_SCORE_1    float64  34845             56.66   25814   \n",
       "21        EXT_SCORE_2    float64    134              0.22   46296   \n",
       "22        EXT_SCORE_3    float64  12239             19.90     744   \n",
       "\n",
       "                                Unique Sample  \n",
       "0                            [158521, 101796]  \n",
       "1                                      [1, 0]  \n",
       "2               [Revolving loans, Cash loans]  \n",
       "3                                      [F, M]  \n",
       "4                                      [1, 3]  \n",
       "5                        [169137.0, 184203.0]  \n",
       "6                        [528637.5, 522000.0]  \n",
       "7                          [50791.5, 47574.0]  \n",
       "8                       [2196000.0, 268420.5]  \n",
       "9                     [Pensioner, Unemployed]  \n",
       "10        [Higher education, Lower secondary]  \n",
       "11            [Married, Single / not married]  \n",
       "12        [Rented apartment, Co-op apartment]  \n",
       "13                           [-14650, -16038]  \n",
       "14                             [-8421, -4462]  \n",
       "15                         [-7548.0, -6788.0]  \n",
       "16                             [-3775, -5256]  \n",
       "17                        [MONDAY, WEDNESDAY]  \n",
       "18                                   [23, 11]  \n",
       "19                       [University, Mobile]  \n",
       "20  [0.4261406005143626, 0.09497059803601827]  \n",
       "21   [0.6928648758484597, 0.6315949576118901]  \n",
       "22  [0.08118594316672112, 0.1694287272664794]  "
      ]
     },
     "execution_count": 4,
     "metadata": {},
     "output_type": "execute_result"
    }
   ],
   "source": [
    "Lender=[]\n",
    "\n",
    "for i in df.columns:\n",
    "    Lender.append([\n",
    "        i,\n",
    "        df[i].dtypes,\n",
    "        df[i].isna().sum(),\n",
    "        (((df[i].isna().sum())/len(df))*100).round(2),\n",
    "        df[i].nunique(),\n",
    "        df[i].drop_duplicates().sample(2).values\n",
    "    ])\n",
    "    \n",
    "pd.DataFrame(data=Lender,columns=[\n",
    "    'Data Feature', 'Data Types', 'Null','Null Percentages','Unique','Unique Sample'\n",
    "])"
   ]
  },
  {
   "cell_type": "markdown",
   "metadata": {},
   "source": [
    "## Mapping Correlation Map"
   ]
  },
  {
   "cell_type": "code",
   "execution_count": 5,
   "metadata": {},
   "outputs": [
    {
     "data": {
      "image/png": "[encoded data removed]",
      "text/plain": [
       "<Figure size 1440x1440 with 2 Axes>"
      ]
     },
     "metadata": {
      "needs_background": "light"
     },
     "output_type": "display_data"
    }
   ],
   "source": [
    "df.corr()\n",
    "\n",
    "plt.figure(figsize = (20, 20))\n",
    "sns.heatmap(df.corr(), annot = True)\n",
    "\n",
    "plt.show()"
   ]
  },
  {
   "cell_type": "markdown",
   "metadata": {},
   "source": [
    "### Converting all character in columns into lower case"
   ]
  },
  {
   "cell_type": "code",
   "execution_count": 6,
   "metadata": {},
   "outputs": [
    {
     "name": "stdout",
     "output_type": "stream",
     "text": [
      "<class 'pandas.core.frame.DataFrame'>\n",
      "RangeIndex: 61503 entries, 0 to 61502\n",
      "Data columns (total 23 columns):\n",
      " #   Column             Non-Null Count  Dtype  \n",
      "---  ------             --------------  -----  \n",
      " 0   ln_id              61503 non-null  int64  \n",
      " 1   target             61503 non-null  int64  \n",
      " 2   contract_type      61503 non-null  object \n",
      " 3   gender             61503 non-null  object \n",
      " 4   num_children       61503 non-null  int64  \n",
      " 5   income             61503 non-null  float64\n",
      " 6   approved_credit    61503 non-null  float64\n",
      " 7   annuity            61502 non-null  float64\n",
      " 8   price              61441 non-null  float64\n",
      " 9   income_type        61503 non-null  object \n",
      " 10  education          61503 non-null  object \n",
      " 11  family_status      61503 non-null  object \n",
      " 12  housing_type       61503 non-null  object \n",
      " 13  days_age           61503 non-null  int64  \n",
      " 14  days_work          61503 non-null  int64  \n",
      " 15  days_registration  61503 non-null  float64\n",
      " 16  days_id_change     61503 non-null  int64  \n",
      " 17  weekdays_apply     61503 non-null  object \n",
      " 18  hour_apply         61503 non-null  int64  \n",
      " 19  organization_type  61503 non-null  object \n",
      " 20  ext_score_1        26658 non-null  float64\n",
      " 21  ext_score_2        61369 non-null  float64\n",
      " 22  ext_score_3        49264 non-null  float64\n",
      "dtypes: float64(8), int64(7), object(8)\n",
      "memory usage: 10.8+ MB\n"
     ]
    }
   ],
   "source": [
    "df.columns = [i.lower() for i in df.columns]\n",
    "df.info()"
   ]
  },
  {
   "cell_type": "markdown",
   "metadata": {},
   "source": [
    "## Label Encoding all object data type"
   ]
  },
  {
   "cell_type": "code",
   "execution_count": 7,
   "metadata": {},
   "outputs": [
    {
     "data": {
      "text/html": [
       "<div>\n",
       "<style scoped>\n",
       "    .dataframe tbody tr th:only-of-type {\n",
       "        vertical-align: middle;\n",
       "    }\n",
       "\n",
       "    .dataframe tbody tr th {\n",
       "        vertical-align: top;\n",
       "    }\n",
       "\n",
       "    .dataframe thead th {\n",
       "        text-align: right;\n",
       "    }\n",
       "</style>\n",
       "<table border=\"1\" class=\"dataframe\">\n",
       "  <thead>\n",
       "    <tr style=\"text-align: right;\">\n",
       "      <th></th>\n",
       "      <th>ln_id</th>\n",
       "      <th>target</th>\n",
       "      <th>num_children</th>\n",
       "      <th>income</th>\n",
       "      <th>approved_credit</th>\n",
       "      <th>annuity</th>\n",
       "      <th>price</th>\n",
       "      <th>days_age</th>\n",
       "      <th>days_work</th>\n",
       "      <th>days_registration</th>\n",
       "      <th>...</th>\n",
       "      <th>ext_score_2</th>\n",
       "      <th>ext_score_3</th>\n",
       "      <th>contract_type_encoded</th>\n",
       "      <th>gender_encoded</th>\n",
       "      <th>income_type_encoded</th>\n",
       "      <th>education_encoded</th>\n",
       "      <th>family_status_encoded</th>\n",
       "      <th>housing_type_encoded</th>\n",
       "      <th>weekdays_apply_encoded</th>\n",
       "      <th>organization_type_encoded</th>\n",
       "    </tr>\n",
       "  </thead>\n",
       "  <tbody>\n",
       "    <tr>\n",
       "      <th>0</th>\n",
       "      <td>333538</td>\n",
       "      <td>0</td>\n",
       "      <td>1</td>\n",
       "      <td>67500.0</td>\n",
       "      <td>202500.0</td>\n",
       "      <td>10125.0</td>\n",
       "      <td>202500.0</td>\n",
       "      <td>-11539</td>\n",
       "      <td>-921</td>\n",
       "      <td>-119.0</td>\n",
       "      <td>...</td>\n",
       "      <td>0.608276</td>\n",
       "      <td>NaN</td>\n",
       "      <td>1</td>\n",
       "      <td>0</td>\n",
       "      <td>6</td>\n",
       "      <td>4</td>\n",
       "      <td>1</td>\n",
       "      <td>5</td>\n",
       "      <td>5</td>\n",
       "      <td>5</td>\n",
       "    </tr>\n",
       "    <tr>\n",
       "      <th>1</th>\n",
       "      <td>406644</td>\n",
       "      <td>0</td>\n",
       "      <td>1</td>\n",
       "      <td>202500.0</td>\n",
       "      <td>976711.5</td>\n",
       "      <td>49869.0</td>\n",
       "      <td>873000.0</td>\n",
       "      <td>-15743</td>\n",
       "      <td>-4482</td>\n",
       "      <td>-1797.0</td>\n",
       "      <td>...</td>\n",
       "      <td>0.684298</td>\n",
       "      <td>NaN</td>\n",
       "      <td>0</td>\n",
       "      <td>0</td>\n",
       "      <td>1</td>\n",
       "      <td>4</td>\n",
       "      <td>1</td>\n",
       "      <td>1</td>\n",
       "      <td>5</td>\n",
       "      <td>34</td>\n",
       "    </tr>\n",
       "    <tr>\n",
       "      <th>2</th>\n",
       "      <td>259130</td>\n",
       "      <td>0</td>\n",
       "      <td>0</td>\n",
       "      <td>180000.0</td>\n",
       "      <td>407520.0</td>\n",
       "      <td>25060.5</td>\n",
       "      <td>360000.0</td>\n",
       "      <td>-20775</td>\n",
       "      <td>365243</td>\n",
       "      <td>-8737.0</td>\n",
       "      <td>...</td>\n",
       "      <td>0.580687</td>\n",
       "      <td>0.749022</td>\n",
       "      <td>0</td>\n",
       "      <td>0</td>\n",
       "      <td>2</td>\n",
       "      <td>4</td>\n",
       "      <td>1</td>\n",
       "      <td>1</td>\n",
       "      <td>4</td>\n",
       "      <td>33</td>\n",
       "    </tr>\n",
       "    <tr>\n",
       "      <th>3</th>\n",
       "      <td>411997</td>\n",
       "      <td>0</td>\n",
       "      <td>0</td>\n",
       "      <td>225000.0</td>\n",
       "      <td>808650.0</td>\n",
       "      <td>26086.5</td>\n",
       "      <td>675000.0</td>\n",
       "      <td>-20659</td>\n",
       "      <td>-10455</td>\n",
       "      <td>-4998.0</td>\n",
       "      <td>...</td>\n",
       "      <td>0.623740</td>\n",
       "      <td>0.710674</td>\n",
       "      <td>0</td>\n",
       "      <td>1</td>\n",
       "      <td>3</td>\n",
       "      <td>1</td>\n",
       "      <td>1</td>\n",
       "      <td>1</td>\n",
       "      <td>6</td>\n",
       "      <td>8</td>\n",
       "    </tr>\n",
       "    <tr>\n",
       "      <th>4</th>\n",
       "      <td>241559</td>\n",
       "      <td>0</td>\n",
       "      <td>0</td>\n",
       "      <td>135000.0</td>\n",
       "      <td>180000.0</td>\n",
       "      <td>9000.0</td>\n",
       "      <td>180000.0</td>\n",
       "      <td>-9013</td>\n",
       "      <td>-1190</td>\n",
       "      <td>-3524.0</td>\n",
       "      <td>...</td>\n",
       "      <td>0.492994</td>\n",
       "      <td>0.085595</td>\n",
       "      <td>1</td>\n",
       "      <td>1</td>\n",
       "      <td>1</td>\n",
       "      <td>4</td>\n",
       "      <td>3</td>\n",
       "      <td>1</td>\n",
       "      <td>3</td>\n",
       "      <td>7</td>\n",
       "    </tr>\n",
       "  </tbody>\n",
       "</table>\n",
       "<p>5 rows × 23 columns</p>\n",
       "</div>"
      ],
      "text/plain": [
       "    ln_id  target  num_children    income  approved_credit  annuity     price  \\\n",
       "0  333538       0             1   67500.0         202500.0  10125.0  202500.0   \n",
       "1  406644       0             1  202500.0         976711.5  49869.0  873000.0   \n",
       "2  259130       0             0  180000.0         407520.0  25060.5  360000.0   \n",
       "3  411997       0             0  225000.0         808650.0  26086.5  675000.0   \n",
       "4  241559       0             0  135000.0         180000.0   9000.0  180000.0   \n",
       "\n",
       "   days_age  days_work  days_registration  ...  ext_score_2  ext_score_3  \\\n",
       "0    -11539       -921             -119.0  ...     0.608276          NaN   \n",
       "1    -15743      -4482            -1797.0  ...     0.684298          NaN   \n",
       "2    -20775     365243            -8737.0  ...     0.580687     0.749022   \n",
       "3    -20659     -10455            -4998.0  ...     0.623740     0.710674   \n",
       "4     -9013      -1190            -3524.0  ...     0.492994     0.085595   \n",
       "\n",
       "   contract_type_encoded  gender_encoded  income_type_encoded  \\\n",
       "0                      1               0                    6   \n",
       "1                      0               0                    1   \n",
       "2                      0               0                    2   \n",
       "3                      0               1                    3   \n",
       "4                      1               1                    1   \n",
       "\n",
       "   education_encoded  family_status_encoded  housing_type_encoded  \\\n",
       "0                  4                      1                     5   \n",
       "1                  4                      1                     1   \n",
       "2                  4                      1                     1   \n",
       "3                  1                      1                     1   \n",
       "4                  4                      3                     1   \n",
       "\n",
       "   weekdays_apply_encoded  organization_type_encoded  \n",
       "0                       5                          5  \n",
       "1                       5                         34  \n",
       "2                       4                         33  \n",
       "3                       6                          8  \n",
       "4                       3                          7  \n",
       "\n",
       "[5 rows x 23 columns]"
      ]
     },
     "execution_count": 7,
     "metadata": {},
     "output_type": "execute_result"
    }
   ],
   "source": [
    "le = LabelEncoder()\n",
    "\n",
    "cat_cols = [i for i in df.columns if df[i].dtype == 'object']\n",
    "\n",
    "for col_name in cat_cols:\n",
    "    col_name_encoded = col_name + '_encoded'\n",
    "    df[col_name_encoded] = le.fit_transform(df[col_name])\n",
    "    df = df.drop(columns=[col_name])\n",
    "    \n",
    "df.head()"
   ]
  },
  {
   "cell_type": "code",
   "execution_count": 8,
   "metadata": {},
   "outputs": [
    {
     "data": {
      "text/html": [
       "<div>\n",
       "<style scoped>\n",
       "    .dataframe tbody tr th:only-of-type {\n",
       "        vertical-align: middle;\n",
       "    }\n",
       "\n",
       "    .dataframe tbody tr th {\n",
       "        vertical-align: top;\n",
       "    }\n",
       "\n",
       "    .dataframe thead th {\n",
       "        text-align: right;\n",
       "    }\n",
       "</style>\n",
       "<table border=\"1\" class=\"dataframe\">\n",
       "  <thead>\n",
       "    <tr style=\"text-align: right;\">\n",
       "      <th></th>\n",
       "      <th>Data Feature</th>\n",
       "      <th>Data Types</th>\n",
       "      <th>Null</th>\n",
       "      <th>Null Percentages</th>\n",
       "      <th>Unique</th>\n",
       "    </tr>\n",
       "  </thead>\n",
       "  <tbody>\n",
       "    <tr>\n",
       "      <th>0</th>\n",
       "      <td>ln_id</td>\n",
       "      <td>int64</td>\n",
       "      <td>0</td>\n",
       "      <td>0.00</td>\n",
       "      <td>61503</td>\n",
       "    </tr>\n",
       "    <tr>\n",
       "      <th>1</th>\n",
       "      <td>target</td>\n",
       "      <td>int64</td>\n",
       "      <td>0</td>\n",
       "      <td>0.00</td>\n",
       "      <td>2</td>\n",
       "    </tr>\n",
       "    <tr>\n",
       "      <th>2</th>\n",
       "      <td>num_children</td>\n",
       "      <td>int64</td>\n",
       "      <td>0</td>\n",
       "      <td>0.00</td>\n",
       "      <td>10</td>\n",
       "    </tr>\n",
       "    <tr>\n",
       "      <th>3</th>\n",
       "      <td>income</td>\n",
       "      <td>float64</td>\n",
       "      <td>0</td>\n",
       "      <td>0.00</td>\n",
       "      <td>861</td>\n",
       "    </tr>\n",
       "    <tr>\n",
       "      <th>4</th>\n",
       "      <td>approved_credit</td>\n",
       "      <td>float64</td>\n",
       "      <td>0</td>\n",
       "      <td>0.00</td>\n",
       "      <td>3562</td>\n",
       "    </tr>\n",
       "    <tr>\n",
       "      <th>5</th>\n",
       "      <td>annuity</td>\n",
       "      <td>float64</td>\n",
       "      <td>1</td>\n",
       "      <td>0.00</td>\n",
       "      <td>9374</td>\n",
       "    </tr>\n",
       "    <tr>\n",
       "      <th>6</th>\n",
       "      <td>price</td>\n",
       "      <td>float64</td>\n",
       "      <td>62</td>\n",
       "      <td>0.10</td>\n",
       "      <td>541</td>\n",
       "    </tr>\n",
       "    <tr>\n",
       "      <th>7</th>\n",
       "      <td>days_age</td>\n",
       "      <td>int64</td>\n",
       "      <td>0</td>\n",
       "      <td>0.00</td>\n",
       "      <td>16257</td>\n",
       "    </tr>\n",
       "    <tr>\n",
       "      <th>8</th>\n",
       "      <td>days_work</td>\n",
       "      <td>int64</td>\n",
       "      <td>0</td>\n",
       "      <td>0.00</td>\n",
       "      <td>8524</td>\n",
       "    </tr>\n",
       "    <tr>\n",
       "      <th>9</th>\n",
       "      <td>days_registration</td>\n",
       "      <td>float64</td>\n",
       "      <td>0</td>\n",
       "      <td>0.00</td>\n",
       "      <td>13153</td>\n",
       "    </tr>\n",
       "    <tr>\n",
       "      <th>10</th>\n",
       "      <td>days_id_change</td>\n",
       "      <td>int64</td>\n",
       "      <td>0</td>\n",
       "      <td>0.00</td>\n",
       "      <td>5824</td>\n",
       "    </tr>\n",
       "    <tr>\n",
       "      <th>11</th>\n",
       "      <td>hour_apply</td>\n",
       "      <td>int64</td>\n",
       "      <td>0</td>\n",
       "      <td>0.00</td>\n",
       "      <td>24</td>\n",
       "    </tr>\n",
       "    <tr>\n",
       "      <th>12</th>\n",
       "      <td>ext_score_1</td>\n",
       "      <td>float64</td>\n",
       "      <td>34845</td>\n",
       "      <td>56.66</td>\n",
       "      <td>25814</td>\n",
       "    </tr>\n",
       "    <tr>\n",
       "      <th>13</th>\n",
       "      <td>ext_score_2</td>\n",
       "      <td>float64</td>\n",
       "      <td>134</td>\n",
       "      <td>0.22</td>\n",
       "      <td>46296</td>\n",
       "    </tr>\n",
       "    <tr>\n",
       "      <th>14</th>\n",
       "      <td>ext_score_3</td>\n",
       "      <td>float64</td>\n",
       "      <td>12239</td>\n",
       "      <td>19.90</td>\n",
       "      <td>744</td>\n",
       "    </tr>\n",
       "    <tr>\n",
       "      <th>15</th>\n",
       "      <td>contract_type_encoded</td>\n",
       "      <td>int32</td>\n",
       "      <td>0</td>\n",
       "      <td>0.00</td>\n",
       "      <td>2</td>\n",
       "    </tr>\n",
       "    <tr>\n",
       "      <th>16</th>\n",
       "      <td>gender_encoded</td>\n",
       "      <td>int32</td>\n",
       "      <td>0</td>\n",
       "      <td>0.00</td>\n",
       "      <td>2</td>\n",
       "    </tr>\n",
       "    <tr>\n",
       "      <th>17</th>\n",
       "      <td>income_type_encoded</td>\n",
       "      <td>int32</td>\n",
       "      <td>0</td>\n",
       "      <td>0.00</td>\n",
       "      <td>7</td>\n",
       "    </tr>\n",
       "    <tr>\n",
       "      <th>18</th>\n",
       "      <td>education_encoded</td>\n",
       "      <td>int32</td>\n",
       "      <td>0</td>\n",
       "      <td>0.00</td>\n",
       "      <td>5</td>\n",
       "    </tr>\n",
       "    <tr>\n",
       "      <th>19</th>\n",
       "      <td>family_status_encoded</td>\n",
       "      <td>int32</td>\n",
       "      <td>0</td>\n",
       "      <td>0.00</td>\n",
       "      <td>5</td>\n",
       "    </tr>\n",
       "    <tr>\n",
       "      <th>20</th>\n",
       "      <td>housing_type_encoded</td>\n",
       "      <td>int32</td>\n",
       "      <td>0</td>\n",
       "      <td>0.00</td>\n",
       "      <td>6</td>\n",
       "    </tr>\n",
       "    <tr>\n",
       "      <th>21</th>\n",
       "      <td>weekdays_apply_encoded</td>\n",
       "      <td>int32</td>\n",
       "      <td>0</td>\n",
       "      <td>0.00</td>\n",
       "      <td>7</td>\n",
       "    </tr>\n",
       "    <tr>\n",
       "      <th>22</th>\n",
       "      <td>organization_type_encoded</td>\n",
       "      <td>int32</td>\n",
       "      <td>0</td>\n",
       "      <td>0.00</td>\n",
       "      <td>58</td>\n",
       "    </tr>\n",
       "  </tbody>\n",
       "</table>\n",
       "</div>"
      ],
      "text/plain": [
       "                 Data Feature Data Types   Null  Null Percentages  Unique\n",
       "0                       ln_id      int64      0              0.00   61503\n",
       "1                      target      int64      0              0.00       2\n",
       "2                num_children      int64      0              0.00      10\n",
       "3                      income    float64      0              0.00     861\n",
       "4             approved_credit    float64      0              0.00    3562\n",
       "5                     annuity    float64      1              0.00    9374\n",
       "6                       price    float64     62              0.10     541\n",
       "7                    days_age      int64      0              0.00   16257\n",
       "8                   days_work      int64      0              0.00    8524\n",
       "9           days_registration    float64      0              0.00   13153\n",
       "10             days_id_change      int64      0              0.00    5824\n",
       "11                 hour_apply      int64      0              0.00      24\n",
       "12                ext_score_1    float64  34845             56.66   25814\n",
       "13                ext_score_2    float64    134              0.22   46296\n",
       "14                ext_score_3    float64  12239             19.90     744\n",
       "15      contract_type_encoded      int32      0              0.00       2\n",
       "16             gender_encoded      int32      0              0.00       2\n",
       "17        income_type_encoded      int32      0              0.00       7\n",
       "18          education_encoded      int32      0              0.00       5\n",
       "19      family_status_encoded      int32      0              0.00       5\n",
       "20       housing_type_encoded      int32      0              0.00       6\n",
       "21     weekdays_apply_encoded      int32      0              0.00       7\n",
       "22  organization_type_encoded      int32      0              0.00      58"
      ]
     },
     "execution_count": 8,
     "metadata": {},
     "output_type": "execute_result"
    }
   ],
   "source": [
    "Lender=[]\n",
    "\n",
    "for i in df.columns:\n",
    "    Lender.append([\n",
    "        i,\n",
    "        df[i].dtypes,\n",
    "        df[i].isna().sum(),\n",
    "        (((df[i].isna().sum())/len(df))*100).round(2),\n",
    "        df[i].nunique()\n",
    "    ])\n",
    "    \n",
    "pd.DataFrame(data=Lender,columns=[\n",
    "    'Data Feature', 'Data Types', 'Null','Null Percentages','Unique'])"
   ]
  },
  {
   "cell_type": "code",
   "execution_count": 9,
   "metadata": {},
   "outputs": [
    {
     "data": {
      "text/plain": [
       "ln_id                            0\n",
       "target                           0\n",
       "num_children                     0\n",
       "income                           0\n",
       "approved_credit                  0\n",
       "annuity                          1\n",
       "price                           62\n",
       "days_age                         0\n",
       "days_work                        0\n",
       "days_registration                0\n",
       "days_id_change                   0\n",
       "hour_apply                       0\n",
       "ext_score_1                  34845\n",
       "ext_score_2                    134\n",
       "ext_score_3                  12239\n",
       "contract_type_encoded            0\n",
       "gender_encoded                   0\n",
       "income_type_encoded              0\n",
       "education_encoded                0\n",
       "family_status_encoded            0\n",
       "housing_type_encoded             0\n",
       "weekdays_apply_encoded           0\n",
       "organization_type_encoded        0\n",
       "dtype: int64"
      ]
     },
     "execution_count": 9,
     "metadata": {},
     "output_type": "execute_result"
    }
   ],
   "source": [
    "df.isna().sum()"
   ]
  },
  {
   "cell_type": "code",
   "execution_count": 10,
   "metadata": {},
   "outputs": [
    {
     "data": {
      "text/plain": [
       "ln_id                        0\n",
       "target                       0\n",
       "num_children                 0\n",
       "income                       0\n",
       "approved_credit              0\n",
       "annuity                      0\n",
       "price                        0\n",
       "days_age                     0\n",
       "days_work                    0\n",
       "days_registration            0\n",
       "days_id_change               0\n",
       "hour_apply                   0\n",
       "ext_score_1                  0\n",
       "ext_score_2                  0\n",
       "ext_score_3                  0\n",
       "contract_type_encoded        0\n",
       "gender_encoded               0\n",
       "income_type_encoded          0\n",
       "education_encoded            0\n",
       "family_status_encoded        0\n",
       "housing_type_encoded         0\n",
       "weekdays_apply_encoded       0\n",
       "organization_type_encoded    0\n",
       "dtype: int64"
      ]
     },
     "execution_count": 10,
     "metadata": {},
     "output_type": "execute_result"
    }
   ],
   "source": [
    "df.dropna(inplace=True)\n",
    "\n",
    "df.isna().sum()"
   ]
  },
  {
   "cell_type": "markdown",
   "metadata": {},
   "source": [
    "## Checking target columns"
   ]
  },
  {
   "cell_type": "code",
   "execution_count": 11,
   "metadata": {},
   "outputs": [
    {
     "data": {
      "text/html": [
       "<div>\n",
       "<style scoped>\n",
       "    .dataframe tbody tr th:only-of-type {\n",
       "        vertical-align: middle;\n",
       "    }\n",
       "\n",
       "    .dataframe tbody tr th {\n",
       "        vertical-align: top;\n",
       "    }\n",
       "\n",
       "    .dataframe thead th {\n",
       "        text-align: right;\n",
       "    }\n",
       "</style>\n",
       "<table border=\"1\" class=\"dataframe\">\n",
       "  <thead>\n",
       "    <tr style=\"text-align: right;\">\n",
       "      <th>col_0</th>\n",
       "      <th>count</th>\n",
       "    </tr>\n",
       "    <tr>\n",
       "      <th>target</th>\n",
       "      <th></th>\n",
       "    </tr>\n",
       "  </thead>\n",
       "  <tbody>\n",
       "    <tr>\n",
       "      <th>0</th>\n",
       "      <td>92.716508</td>\n",
       "    </tr>\n",
       "    <tr>\n",
       "      <th>1</th>\n",
       "      <td>7.283492</td>\n",
       "    </tr>\n",
       "  </tbody>\n",
       "</table>\n",
       "</div>"
      ],
      "text/plain": [
       "col_0       count\n",
       "target           \n",
       "0       92.716508\n",
       "1        7.283492"
      ]
     },
     "execution_count": 11,
     "metadata": {},
     "output_type": "execute_result"
    }
   ],
   "source": [
    "df[\"target\"].value_counts()\n",
    "\n",
    "pd.crosstab(index=df['target'],columns='count',normalize=True)*100"
   ]
  },
  {
   "cell_type": "code",
   "execution_count": 12,
   "metadata": {},
   "outputs": [
    {
     "data": {
      "image/png": "[encoded data removed]",
      "text/plain": [
       "<Figure size 432x288 with 1 Axes>"
      ]
     },
     "metadata": {
      "needs_background": "light"
     },
     "output_type": "display_data"
    }
   ],
   "source": [
    "ax = sns.countplot(x=df['target'], data=df, palette='magma')\n",
    "\n",
    "plt.show()"
   ]
  },
  {
   "cell_type": "markdown",
   "metadata": {},
   "source": [
    "##### The target column is imbalanced, so it is needed to be handled properly. In this case, random oversampling will be applied"
   ]
  },
  {
   "cell_type": "markdown",
   "metadata": {},
   "source": [
    "# Target Engineering\n",
    "\n",
    "## Splitting Data"
   ]
  },
  {
   "cell_type": "code",
   "execution_count": 13,
   "metadata": {},
   "outputs": [],
   "source": [
    "from sklearn.model_selection import train_test_split, GridSearchCV, RandomizedSearchCV\n",
    "from sklearn.metrics import classification_report, confusion_matrix, f1_score,roc_auc_score, recall_score, precision_score, accuracy_score\n",
    "\n",
    "from sklearn.utils import resample"
   ]
  },
  {
   "cell_type": "code",
   "execution_count": 14,
   "metadata": {},
   "outputs": [],
   "source": [
    "X = df.drop(columns=['target'])\n",
    "y = df['target']\n",
    "\n",
    "X_train, X_test, y_train, y_test = train_test_split(X, y, stratify = y, train_size = .8, random_state=42)"
   ]
  },
  {
   "cell_type": "code",
   "execution_count": 15,
   "metadata": {},
   "outputs": [
    {
     "data": {
      "text/plain": [
       "(17431, 22)"
      ]
     },
     "execution_count": 15,
     "metadata": {},
     "output_type": "execute_result"
    }
   ],
   "source": [
    "X_train.shape"
   ]
  },
  {
   "cell_type": "code",
   "execution_count": 16,
   "metadata": {},
   "outputs": [
    {
     "data": {
      "text/plain": [
       "(4358, 22)"
      ]
     },
     "execution_count": 16,
     "metadata": {},
     "output_type": "execute_result"
    }
   ],
   "source": [
    "X_test.shape"
   ]
  },
  {
   "cell_type": "code",
   "execution_count": 17,
   "metadata": {},
   "outputs": [
    {
     "data": {
      "text/plain": [
       "0    16161\n",
       "1     1270\n",
       "Name: target, dtype: int64"
      ]
     },
     "execution_count": 17,
     "metadata": {},
     "output_type": "execute_result"
    }
   ],
   "source": [
    "df_train = pd.concat([X_train, y_train], axis=1)\n",
    "\n",
    "df_train['target'].value_counts()"
   ]
  },
  {
   "cell_type": "code",
   "execution_count": 18,
   "metadata": {},
   "outputs": [],
   "source": [
    "non_troubledlender = df_train[df_train['target'] == 0] ##  Majority class\n",
    "troubledlender = df_train[df_train['target'] == 1] ##  Minority class"
   ]
  },
  {
   "cell_type": "markdown",
   "metadata": {},
   "source": [
    "## Handling Imbalanced Data\n",
    "\n",
    "### Random Oversampling "
   ]
  },
  {
   "cell_type": "code",
   "execution_count": 19,
   "metadata": {},
   "outputs": [
    {
     "data": {
      "text/plain": [
       "1    16161\n",
       "0    16161\n",
       "Name: target, dtype: int64"
      ]
     },
     "execution_count": 19,
     "metadata": {},
     "output_type": "execute_result"
    }
   ],
   "source": [
    "troubledlender_oversample = resample(troubledlender, ## Minority\n",
    "                           replace=True,\n",
    "                           n_samples = len(non_troubledlender), ## Sum of Majority class\n",
    "                           random_state = 42)\n",
    "\n",
    "df_OverSampled = pd.concat([non_troubledlender, troubledlender_oversample])\n",
    "\n",
    "df_OverSampled['target'].value_counts()"
   ]
  },
  {
   "cell_type": "code",
   "execution_count": 20,
   "metadata": {},
   "outputs": [],
   "source": [
    "X_train_OverSampled = df_OverSampled.drop(columns=['target'])\n",
    "y_train_OverSampled = df_OverSampled['target']"
   ]
  },
  {
   "cell_type": "markdown",
   "metadata": {},
   "source": [
    "# MODELING"
   ]
  },
  {
   "cell_type": "code",
   "execution_count": 21,
   "metadata": {},
   "outputs": [],
   "source": [
    "from sklearn.neighbors import KNeighborsClassifier\n",
    "from sklearn.linear_model import LogisticRegression\n",
    "from sklearn.svm import SVC \n",
    "from sklearn.tree import DecisionTreeClassifier\n",
    "from sklearn.ensemble import RandomForestClassifier"
   ]
  },
  {
   "cell_type": "code",
   "execution_count": 22,
   "metadata": {},
   "outputs": [],
   "source": [
    "# set up the experiment\n",
    "\n",
    "from sklearn.pipeline import Pipeline\n",
    "from sklearn.model_selection import StratifiedKFold\n",
    "\n",
    "\n",
    "models = Pipeline([\n",
    "    ('clf', None), \n",
    "])\n",
    "\n",
    "search = GridSearchCV(\n",
    "    models, \n",
    "    cv=StratifiedKFold(n_splits=10, shuffle=True, random_state=42), \n",
    "    return_train_score=False, \n",
    "    scoring=['accuracy','precision', 'recall', 'f1'],\n",
    "    refit='recall',\n",
    "    param_grid={\n",
    "        'clf': [KNeighborsClassifier(), RandomForestClassifier(), LogisticRegression(max_iter=10000)]        \n",
    "})"
   ]
  },
  {
   "cell_type": "markdown",
   "metadata": {},
   "source": [
    "## Fitting and experimenting with different models\n"
   ]
  },
  {
   "cell_type": "code",
   "execution_count": 23,
   "metadata": {},
   "outputs": [
    {
     "data": {
      "text/plain": [
       "GridSearchCV(cv=StratifiedKFold(n_splits=10, random_state=42, shuffle=True),\n",
       "             error_score=nan,\n",
       "             estimator=Pipeline(memory=None, steps=[('clf', None)],\n",
       "                                verbose=False),\n",
       "             iid='deprecated', n_jobs=None,\n",
       "             param_grid={'clf': [KNeighborsClassifier(algorithm='auto',\n",
       "                                                      leaf_size=30,\n",
       "                                                      metric='minkowski',\n",
       "                                                      metric_params=None,\n",
       "                                                      n_jobs=None,\n",
       "                                                      n_neighbors=5, p=2,\n",
       "                                                      weights='uniform'),\n",
       "                                 RandomF...\n",
       "                                 LogisticRegression(C=1.0, class_weight=None,\n",
       "                                                    dual=False,\n",
       "                                                    fit_intercept=True,\n",
       "                                                    intercept_scaling=1,\n",
       "                                                    l1_ratio=None,\n",
       "                                                    max_iter=10000,\n",
       "                                                    multi_class='auto',\n",
       "                                                    n_jobs=None, penalty='l2',\n",
       "                                                    random_state=None,\n",
       "                                                    solver='lbfgs', tol=0.0001,\n",
       "                                                    verbose=0,\n",
       "                                                    warm_start=False)]},\n",
       "             pre_dispatch='2*n_jobs', refit='recall', return_train_score=False,\n",
       "             scoring=['accuracy', 'precision', 'recall', 'f1'], verbose=0)"
      ]
     },
     "execution_count": 23,
     "metadata": {},
     "output_type": "execute_result"
    }
   ],
   "source": [
    "import time\n",
    "\n",
    "start = time.time()\n",
    "search.fit(X_train_OverSampled, y_train_OverSampled)\n",
    "search"
   ]
  },
  {
   "cell_type": "code",
   "execution_count": 38,
   "metadata": {},
   "outputs": [
    {
     "name": "stdout",
     "output_type": "stream",
     "text": [
      "Best model: {'clf': RandomForestClassifier(bootstrap=True, ccp_alpha=0.0, class_weight=None,\n",
      "                       criterion='gini', max_depth=None, max_features='auto',\n",
      "                       max_leaf_nodes=None, max_samples=None,\n",
      "                       min_impurity_decrease=0.0, min_impurity_split=None,\n",
      "                       min_samples_leaf=1, min_samples_split=2,\n",
      "                       min_weight_fraction_leaf=0.0, n_estimators=100,\n",
      "                       n_jobs=None, oob_score=False, random_state=None,\n",
      "                       verbose=0, warm_start=False)}\n"
     ]
    },
    {
     "data": {
      "text/html": [
       "<div>\n",
       "<style scoped>\n",
       "    .dataframe tbody tr th:only-of-type {\n",
       "        vertical-align: middle;\n",
       "    }\n",
       "\n",
       "    .dataframe tbody tr th {\n",
       "        vertical-align: top;\n",
       "    }\n",
       "\n",
       "    .dataframe thead th {\n",
       "        text-align: right;\n",
       "    }\n",
       "</style>\n",
       "<table border=\"1\" class=\"dataframe\">\n",
       "  <thead>\n",
       "    <tr style=\"text-align: right;\">\n",
       "      <th></th>\n",
       "      <th>mean_fit_time</th>\n",
       "      <th>std_fit_time</th>\n",
       "      <th>mean_score_time</th>\n",
       "      <th>std_score_time</th>\n",
       "      <th>param_clf</th>\n",
       "      <th>params</th>\n",
       "      <th>split0_test_accuracy</th>\n",
       "      <th>split1_test_accuracy</th>\n",
       "      <th>split2_test_accuracy</th>\n",
       "      <th>split3_test_accuracy</th>\n",
       "      <th>...</th>\n",
       "      <th>split3_test_f1</th>\n",
       "      <th>split4_test_f1</th>\n",
       "      <th>split5_test_f1</th>\n",
       "      <th>split6_test_f1</th>\n",
       "      <th>split7_test_f1</th>\n",
       "      <th>split8_test_f1</th>\n",
       "      <th>split9_test_f1</th>\n",
       "      <th>mean_test_f1</th>\n",
       "      <th>std_test_f1</th>\n",
       "      <th>rank_test_f1</th>\n",
       "    </tr>\n",
       "  </thead>\n",
       "  <tbody>\n",
       "    <tr>\n",
       "      <th>0</th>\n",
       "      <td>0.359626</td>\n",
       "      <td>0.054540</td>\n",
       "      <td>0.356650</td>\n",
       "      <td>0.055033</td>\n",
       "      <td>KNeighborsClassifier(algorithm='auto', leaf_si...</td>\n",
       "      <td>{'clf': KNeighborsClassifier(algorithm='auto',...</td>\n",
       "      <td>0.890504</td>\n",
       "      <td>0.891432</td>\n",
       "      <td>0.885520</td>\n",
       "      <td>0.886757</td>\n",
       "      <td>...</td>\n",
       "      <td>0.898277</td>\n",
       "      <td>0.899527</td>\n",
       "      <td>0.906338</td>\n",
       "      <td>0.897664</td>\n",
       "      <td>0.903046</td>\n",
       "      <td>0.894547</td>\n",
       "      <td>0.896781</td>\n",
       "      <td>0.899628</td>\n",
       "      <td>0.003312</td>\n",
       "      <td>2</td>\n",
       "    </tr>\n",
       "    <tr>\n",
       "      <th>1</th>\n",
       "      <td>6.000641</td>\n",
       "      <td>0.564574</td>\n",
       "      <td>0.104887</td>\n",
       "      <td>0.014642</td>\n",
       "      <td>RandomForestClassifier(bootstrap=True, ccp_alp...</td>\n",
       "      <td>{'clf': RandomForestClassifier(bootstrap=True,...</td>\n",
       "      <td>0.998453</td>\n",
       "      <td>0.998763</td>\n",
       "      <td>0.999381</td>\n",
       "      <td>0.998762</td>\n",
       "      <td>...</td>\n",
       "      <td>0.998764</td>\n",
       "      <td>0.999073</td>\n",
       "      <td>0.998764</td>\n",
       "      <td>0.998147</td>\n",
       "      <td>0.998147</td>\n",
       "      <td>0.998147</td>\n",
       "      <td>0.996915</td>\n",
       "      <td>0.998456</td>\n",
       "      <td>0.000647</td>\n",
       "      <td>1</td>\n",
       "    </tr>\n",
       "    <tr>\n",
       "      <th>2</th>\n",
       "      <td>0.445612</td>\n",
       "      <td>0.069083</td>\n",
       "      <td>0.009792</td>\n",
       "      <td>0.001325</td>\n",
       "      <td>LogisticRegression(C=1.0, class_weight=None, d...</td>\n",
       "      <td>{'clf': LogisticRegression(C=1.0, class_weight...</td>\n",
       "      <td>0.568512</td>\n",
       "      <td>0.573770</td>\n",
       "      <td>0.580446</td>\n",
       "      <td>0.591894</td>\n",
       "      <td>...</td>\n",
       "      <td>0.592272</td>\n",
       "      <td>0.587011</td>\n",
       "      <td>0.572059</td>\n",
       "      <td>0.584558</td>\n",
       "      <td>0.569532</td>\n",
       "      <td>0.579194</td>\n",
       "      <td>0.588672</td>\n",
       "      <td>0.578617</td>\n",
       "      <td>0.010186</td>\n",
       "      <td>3</td>\n",
       "    </tr>\n",
       "  </tbody>\n",
       "</table>\n",
       "<p>3 rows × 58 columns</p>\n",
       "</div>"
      ],
      "text/plain": [
       "   mean_fit_time  std_fit_time  mean_score_time  std_score_time  \\\n",
       "0       0.359626      0.054540         0.356650        0.055033   \n",
       "1       6.000641      0.564574         0.104887        0.014642   \n",
       "2       0.445612      0.069083         0.009792        0.001325   \n",
       "\n",
       "                                           param_clf  \\\n",
       "0  KNeighborsClassifier(algorithm='auto', leaf_si...   \n",
       "1  RandomForestClassifier(bootstrap=True, ccp_alp...   \n",
       "2  LogisticRegression(C=1.0, class_weight=None, d...   \n",
       "\n",
       "                                              params  split0_test_accuracy  \\\n",
       "0  {'clf': KNeighborsClassifier(algorithm='auto',...              0.890504   \n",
       "1  {'clf': RandomForestClassifier(bootstrap=True,...              0.998453   \n",
       "2  {'clf': LogisticRegression(C=1.0, class_weight...              0.568512   \n",
       "\n",
       "   split1_test_accuracy  split2_test_accuracy  split3_test_accuracy  ...  \\\n",
       "0              0.891432              0.885520              0.886757  ...   \n",
       "1              0.998763              0.999381              0.998762  ...   \n",
       "2              0.573770              0.580446              0.591894  ...   \n",
       "\n",
       "   split3_test_f1  split4_test_f1  split5_test_f1  split6_test_f1  \\\n",
       "0        0.898277        0.899527        0.906338        0.897664   \n",
       "1        0.998764        0.999073        0.998764        0.998147   \n",
       "2        0.592272        0.587011        0.572059        0.584558   \n",
       "\n",
       "   split7_test_f1  split8_test_f1  split9_test_f1  mean_test_f1  std_test_f1  \\\n",
       "0        0.903046        0.894547        0.896781      0.899628     0.003312   \n",
       "1        0.998147        0.998147        0.996915      0.998456     0.000647   \n",
       "2        0.569532        0.579194        0.588672      0.578617     0.010186   \n",
       "\n",
       "   rank_test_f1  \n",
       "0             2  \n",
       "1             1  \n",
       "2             3  \n",
       "\n",
       "[3 rows x 58 columns]"
      ]
     },
     "execution_count": 38,
     "metadata": {},
     "output_type": "execute_result"
    }
   ],
   "source": [
    "print('Best model:', search.best_params_)\n",
    "model_comparison = pd.DataFrame(search.cv_results_)\n",
    "model_comparison"
   ]
  },
  {
   "cell_type": "markdown",
   "metadata": {},
   "source": [
    "# Model Comparison"
   ]
  },
  {
   "cell_type": "code",
   "execution_count": 41,
   "metadata": {},
   "outputs": [
    {
     "data": {
      "image/png": "[encoded data removed]",
      "text/plain": [
       "<Figure size 432x288 with 1 Axes>"
      ]
     },
     "metadata": {
      "needs_background": "light"
     },
     "output_type": "display_data"
    }
   ],
   "source": [
    "model_comparison['model'] = ['KneighborsClassifier', 'RandomForest', 'LogRegression']\n",
    "ax = sns.barplot('model', 'mean_test_accuracy', data=model_comparison, capsize=.05, palette='BuGn', ci=None)\n",
    "ax.set_xlabel(\"Models\",fontsize=12)\n",
    "ax.set_ylabel(\"Accuracy (%)\",fontsize=12)\n",
    "ax.tick_params(labelsize=12)\n",
    "ax.axes.set_title(\"Model's Score\", fontsize=12)\n",
    "\n",
    "for p in ax.patches:\n",
    "    ax.annotate(\"%.2f\" % p.get_height(), (p.get_x() + p.get_width() / 2., p.get_height()),\n",
    "    ha='center', va='center', fontsize=12, color='black', xytext=(0, -15),\n",
    "    textcoords='offset points')"
   ]
  },
  {
   "cell_type": "markdown",
   "metadata": {},
   "source": [
    "# Export Model"
   ]
  },
  {
   "cell_type": "code",
   "execution_count": 25,
   "metadata": {},
   "outputs": [
    {
     "data": {
      "text/plain": [
       "['model']"
      ]
     },
     "execution_count": 25,
     "metadata": {},
     "output_type": "execute_result"
    }
   ],
   "source": [
    "import joblib\n",
    "\n",
    "joblib.dump(search,'model')"
   ]
  },
  {
   "cell_type": "markdown",
   "metadata": {},
   "source": [
    "# Ranking Applicant"
   ]
  },
  {
   "cell_type": "code",
   "execution_count": 26,
   "metadata": {},
   "outputs": [
    {
     "name": "stdout",
     "output_type": "stream",
     "text": [
      "(5286, 23)\n"
     ]
    }
   ],
   "source": [
    "app_test = pd.read_csv('app_test.csv')\n",
    "\n",
    "app_test.columns = [i.lower() for i in app_test.columns]\n",
    "app_test = app_test.drop(['unnamed: 0'], axis=1)\n",
    "app_test = app_test.dropna()\n",
    "print(app_test.shape)\n",
    "\n",
    "# transform categorical columns using label encoder\n",
    "for col_name in cat_cols:\n",
    "    col_name_encoded = col_name + '_encoded'\n",
    "    \n",
    "    le_loaded=joblib.load('model', mmap_mode=None)  \n",
    "    \n",
    "    \n",
    "# load model\n",
    "loaded_model = joblib.load(open('model', 'rb'))"
   ]
  },
  {
   "cell_type": "code",
   "execution_count": 27,
   "metadata": {},
   "outputs": [],
   "source": [
    "test = LabelEncoder()\n",
    "\n",
    "cat_cols = [i for i in app_test.columns if app_test[i].dtype == 'object']\n",
    "\n",
    "for col_name in cat_cols:\n",
    "    col_name_encoded = col_name + '_encoded'\n",
    "    app_test[col_name_encoded] = test.fit_transform(app_test[col_name])\n",
    "    app_test = app_test.drop(columns=[col_name])\n",
    "    \n",
    "df.head()\n",
    "\n",
    "X_test = app_test.drop('target', axis=1)\n",
    "y_test = app_test['target']\n",
    "\n",
    "prediction_prob = loaded_model.predict_proba(X_test)"
   ]
  },
  {
   "cell_type": "code",
   "execution_count": 34,
   "metadata": {},
   "outputs": [
    {
     "name": "stdout",
     "output_type": "stream",
     "text": [
      "       ln_id  Probability\n",
      "0     180205         0.00\n",
      "1     415912         0.00\n",
      "2     238737         0.00\n",
      "3     174398         0.00\n",
      "4     122540         0.00\n",
      "...      ...          ...\n",
      "5281  164492         0.53\n",
      "5282  217305         0.55\n",
      "5283  413331         0.57\n",
      "5284  219420         0.61\n",
      "5285  393398         0.62\n",
      "\n",
      "[5286 rows x 2 columns]\n"
     ]
    }
   ],
   "source": [
    "Ranking = pd.DataFrame()\n",
    "\n",
    "Ranking['ln_id'] = app_test['ln_id']\n",
    "Ranking['Probability'] = [i[1] for i in prediction_prob]\n",
    "\n",
    "Ranking = Ranking.sort_values('Probability').reset_index(drop=True)\n",
    "print(Ranking)"
   ]
  },
  {
   "cell_type": "markdown",
   "metadata": {},
   "source": [
    "## ROC /AUC Score"
   ]
  },
  {
   "cell_type": "code",
   "execution_count": 36,
   "metadata": {},
   "outputs": [
    {
     "name": "stdout",
     "output_type": "stream",
     "text": [
      "No Skill Model: ROC AUC = 0.500\n",
      "Trained Model: ROC AUC = 0.506\n"
     ]
    },
    {
     "data": {
      "image/png": "[encoded data removed]",
      "text/plain": [
       "<Figure size 432x288 with 1 Axes>"
      ]
     },
     "metadata": {
      "needs_background": "light"
     },
     "output_type": "display_data"
    }
   ],
   "source": [
    "from sklearn.metrics import roc_curve\n",
    "from sklearn.metrics import roc_auc_score\n",
    "from sklearn.metrics import auc\n",
    "\n",
    "\n",
    "\n",
    "# no skill model\n",
    "ns_probs = [0 for _ in range(len(y_test))]\n",
    "# calculate scores\n",
    "ns_auc = roc_auc_score(y_test, ns_probs)\n",
    "lr_auc = roc_auc_score(y_test, Ranking['Probability'])\n",
    "# summarize scores\n",
    "print('No Skill Model: ROC AUC = %.3f' % (ns_auc))\n",
    "print('Trained Model: ROC AUC = %.3f' % (lr_auc))\n",
    "# calculate roc curves\n",
    "ns_fpr, ns_tpr, _ = roc_curve(y_test, ns_probs)\n",
    "lr_fpr, lr_tpr, _ = roc_curve(y_test, Ranking['Probability'])\n",
    "\n",
    "\n",
    "\n",
    "# plot the roc curve for the model\n",
    "plt.plot(ns_fpr, ns_tpr, linestyle='--', label='No Skill Model')\n",
    "plt.plot(lr_fpr, lr_tpr, marker='.', label='Trained Model')\n",
    "# axis labels\n",
    "plt.xlabel('False Positive Rate')\n",
    "plt.ylabel('True Positive Rate')\n",
    "# show the legend and plot\n",
    "plt.legend()\n",
    "plt.show()"
   ]
  },
  {
   "cell_type": "code",
   "execution_count": null,
   "metadata": {},
   "outputs": [],
   "source": []
  }
 ],
 "metadata": {
  "kernelspec": {
   "display_name": "Python 3",
   "language": "python",
   "name": "python3"
  },
  "language_info": {
   "codemirror_mode": {
    "name": "ipython",
    "version": 3
   },
   "file_extension": ".py",
   "mimetype": "text/x-python",
   "name": "python",
   "nbconvert_exporter": "python",
   "pygments_lexer": "ipython3",
   "version": "3.8.5"
  }
 },
 "nbformat": 4,
 "nbformat_minor": 4
}
