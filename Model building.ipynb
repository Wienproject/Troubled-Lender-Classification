{
 "cells": [
  {
   "cell_type": "markdown",
   "metadata": {},
   "source": [
    "# Problem Statement\n",
    "\n",
    "For most financial institutions, such as banks and multi-finance companies, their main source of income is coming from their lending activities. By engaging in this activity, it means that lenders are exposed to the potential risk, where debtors stop repaying their loans, causing losses to the lenders. To mitigate this loss, lenders are expected to appropriately choose who are qualified for a loan, at what rate, and at what amount.  \n",
    "\n",
    "\n",
    "In this question, you are tasked to help the troubled lenders with this problem by creating a model that can help them make their decision. "
   ]
  },
  {
   "cell_type": "code",
   "execution_count": 1,
   "metadata": {},
   "outputs": [],
   "source": [
    "import pandas as pd\n",
    "import numpy as np\n",
    "import seaborn as sns\n",
    "import matplotlib.pyplot as plt\n",
    "from sklearn.preprocessing import LabelEncoder,OneHotEncoder\n",
    "\n",
    "\n",
    "%matplotlib inline\n",
    "\n",
    "from sklearn import set_config\n",
    "set_config(print_changed_only=False)\n",
    "\n",
    "import warnings\n",
    "warnings.filterwarnings('ignore')"
   ]
  },
  {
   "cell_type": "markdown",
   "metadata": {},
   "source": [
    "# DATA EXTRACTION"
   ]
  },
  {
   "cell_type": "code",
   "execution_count": 2,
   "metadata": {},
   "outputs": [],
   "source": [
    "df = pd.read_csv('app_train.csv')\n",
    "df.drop(columns=['Unnamed: 0'],inplace=True)"
   ]
  },
  {
   "cell_type": "code",
   "execution_count": 3,
   "metadata": {},
   "outputs": [
    {
     "data": {
      "text/plain": [
       "(61503, 23)"
      ]
     },
     "execution_count": 3,
     "metadata": {},
     "output_type": "execute_result"
    }
   ],
   "source": [
    "df.shape"
   ]
  },
  {
   "cell_type": "code",
   "execution_count": 4,
   "metadata": {},
   "outputs": [
    {
     "data": {
      "text/html": [
       "<div>\n",
       "<style scoped>\n",
       "    .dataframe tbody tr th:only-of-type {\n",
       "        vertical-align: middle;\n",
       "    }\n",
       "\n",
       "    .dataframe tbody tr th {\n",
       "        vertical-align: top;\n",
       "    }\n",
       "\n",
       "    .dataframe thead th {\n",
       "        text-align: right;\n",
       "    }\n",
       "</style>\n",
       "<table border=\"1\" class=\"dataframe\">\n",
       "  <thead>\n",
       "    <tr style=\"text-align: right;\">\n",
       "      <th></th>\n",
       "      <th>Data Feature</th>\n",
       "      <th>Data Types</th>\n",
       "      <th>Null</th>\n",
       "      <th>Null Percentages</th>\n",
       "      <th>Unique</th>\n",
       "      <th>Unique Sample</th>\n",
       "    </tr>\n",
       "  </thead>\n",
       "  <tbody>\n",
       "    <tr>\n",
       "      <th>0</th>\n",
       "      <td>LN_ID</td>\n",
       "      <td>int64</td>\n",
       "      <td>0</td>\n",
       "      <td>0.00</td>\n",
       "      <td>61503</td>\n",
       "      <td>[165485, 411237]</td>\n",
       "    </tr>\n",
       "    <tr>\n",
       "      <th>1</th>\n",
       "      <td>TARGET</td>\n",
       "      <td>int64</td>\n",
       "      <td>0</td>\n",
       "      <td>0.00</td>\n",
       "      <td>2</td>\n",
       "      <td>[1, 0]</td>\n",
       "    </tr>\n",
       "    <tr>\n",
       "      <th>2</th>\n",
       "      <td>CONTRACT_TYPE</td>\n",
       "      <td>object</td>\n",
       "      <td>0</td>\n",
       "      <td>0.00</td>\n",
       "      <td>2</td>\n",
       "      <td>[Cash loans, Revolving loans]</td>\n",
       "    </tr>\n",
       "    <tr>\n",
       "      <th>3</th>\n",
       "      <td>GENDER</td>\n",
       "      <td>object</td>\n",
       "      <td>0</td>\n",
       "      <td>0.00</td>\n",
       "      <td>2</td>\n",
       "      <td>[M, F]</td>\n",
       "    </tr>\n",
       "    <tr>\n",
       "      <th>4</th>\n",
       "      <td>NUM_CHILDREN</td>\n",
       "      <td>int64</td>\n",
       "      <td>0</td>\n",
       "      <td>0.00</td>\n",
       "      <td>10</td>\n",
       "      <td>[7, 9]</td>\n",
       "    </tr>\n",
       "    <tr>\n",
       "      <th>5</th>\n",
       "      <td>INCOME</td>\n",
       "      <td>float64</td>\n",
       "      <td>0</td>\n",
       "      <td>0.00</td>\n",
       "      <td>861</td>\n",
       "      <td>[186750.0, 369000.0]</td>\n",
       "    </tr>\n",
       "    <tr>\n",
       "      <th>6</th>\n",
       "      <td>APPROVED_CREDIT</td>\n",
       "      <td>float64</td>\n",
       "      <td>0</td>\n",
       "      <td>0.00</td>\n",
       "      <td>3562</td>\n",
       "      <td>[1355004.0, 184081.5]</td>\n",
       "    </tr>\n",
       "    <tr>\n",
       "      <th>7</th>\n",
       "      <td>ANNUITY</td>\n",
       "      <td>float64</td>\n",
       "      <td>1</td>\n",
       "      <td>0.00</td>\n",
       "      <td>9374</td>\n",
       "      <td>[14733.0, 10332.0]</td>\n",
       "    </tr>\n",
       "    <tr>\n",
       "      <th>8</th>\n",
       "      <td>PRICE</td>\n",
       "      <td>float64</td>\n",
       "      <td>62</td>\n",
       "      <td>0.10</td>\n",
       "      <td>541</td>\n",
       "      <td>[113724.0, 432000.0]</td>\n",
       "    </tr>\n",
       "    <tr>\n",
       "      <th>9</th>\n",
       "      <td>INCOME_TYPE</td>\n",
       "      <td>object</td>\n",
       "      <td>0</td>\n",
       "      <td>0.00</td>\n",
       "      <td>7</td>\n",
       "      <td>[State servant, Working]</td>\n",
       "    </tr>\n",
       "    <tr>\n",
       "      <th>10</th>\n",
       "      <td>EDUCATION</td>\n",
       "      <td>object</td>\n",
       "      <td>0</td>\n",
       "      <td>0.00</td>\n",
       "      <td>5</td>\n",
       "      <td>[Higher education, Incomplete higher]</td>\n",
       "    </tr>\n",
       "    <tr>\n",
       "      <th>11</th>\n",
       "      <td>FAMILY_STATUS</td>\n",
       "      <td>object</td>\n",
       "      <td>0</td>\n",
       "      <td>0.00</td>\n",
       "      <td>5</td>\n",
       "      <td>[Single / not married, Widow]</td>\n",
       "    </tr>\n",
       "    <tr>\n",
       "      <th>12</th>\n",
       "      <td>HOUSING_TYPE</td>\n",
       "      <td>object</td>\n",
       "      <td>0</td>\n",
       "      <td>0.00</td>\n",
       "      <td>6</td>\n",
       "      <td>[House / apartment, With parents]</td>\n",
       "    </tr>\n",
       "    <tr>\n",
       "      <th>13</th>\n",
       "      <td>DAYS_AGE</td>\n",
       "      <td>int64</td>\n",
       "      <td>0</td>\n",
       "      <td>0.00</td>\n",
       "      <td>16257</td>\n",
       "      <td>[-15627, -9838]</td>\n",
       "    </tr>\n",
       "    <tr>\n",
       "      <th>14</th>\n",
       "      <td>DAYS_WORK</td>\n",
       "      <td>int64</td>\n",
       "      <td>0</td>\n",
       "      <td>0.00</td>\n",
       "      <td>8524</td>\n",
       "      <td>[-2931, -2628]</td>\n",
       "    </tr>\n",
       "    <tr>\n",
       "      <th>15</th>\n",
       "      <td>DAYS_REGISTRATION</td>\n",
       "      <td>float64</td>\n",
       "      <td>0</td>\n",
       "      <td>0.00</td>\n",
       "      <td>13153</td>\n",
       "      <td>[-891.0, -8193.0]</td>\n",
       "    </tr>\n",
       "    <tr>\n",
       "      <th>16</th>\n",
       "      <td>DAYS_ID_CHANGE</td>\n",
       "      <td>int64</td>\n",
       "      <td>0</td>\n",
       "      <td>0.00</td>\n",
       "      <td>5824</td>\n",
       "      <td>[-1267, -4401]</td>\n",
       "    </tr>\n",
       "    <tr>\n",
       "      <th>17</th>\n",
       "      <td>WEEKDAYS_APPLY</td>\n",
       "      <td>object</td>\n",
       "      <td>0</td>\n",
       "      <td>0.00</td>\n",
       "      <td>7</td>\n",
       "      <td>[SATURDAY, THURSDAY]</td>\n",
       "    </tr>\n",
       "    <tr>\n",
       "      <th>18</th>\n",
       "      <td>HOUR_APPLY</td>\n",
       "      <td>int64</td>\n",
       "      <td>0</td>\n",
       "      <td>0.00</td>\n",
       "      <td>24</td>\n",
       "      <td>[18, 11]</td>\n",
       "    </tr>\n",
       "    <tr>\n",
       "      <th>19</th>\n",
       "      <td>ORGANIZATION_TYPE</td>\n",
       "      <td>object</td>\n",
       "      <td>0</td>\n",
       "      <td>0.00</td>\n",
       "      <td>58</td>\n",
       "      <td>[Industry: type 12, Government]</td>\n",
       "    </tr>\n",
       "    <tr>\n",
       "      <th>20</th>\n",
       "      <td>EXT_SCORE_1</td>\n",
       "      <td>float64</td>\n",
       "      <td>34845</td>\n",
       "      <td>56.66</td>\n",
       "      <td>25814</td>\n",
       "      <td>[0.8733564389088037, 0.5587297881187979]</td>\n",
       "    </tr>\n",
       "    <tr>\n",
       "      <th>21</th>\n",
       "      <td>EXT_SCORE_2</td>\n",
       "      <td>float64</td>\n",
       "      <td>134</td>\n",
       "      <td>0.22</td>\n",
       "      <td>46296</td>\n",
       "      <td>[0.6503124080458572, 0.319734409575234]</td>\n",
       "    </tr>\n",
       "    <tr>\n",
       "      <th>22</th>\n",
       "      <td>EXT_SCORE_3</td>\n",
       "      <td>float64</td>\n",
       "      <td>12239</td>\n",
       "      <td>19.90</td>\n",
       "      <td>744</td>\n",
       "      <td>[0.8482442999507556, 0.445396241560834]</td>\n",
       "    </tr>\n",
       "  </tbody>\n",
       "</table>\n",
       "</div>"
      ],
      "text/plain": [
       "         Data Feature Data Types   Null  Null Percentages  Unique  \\\n",
       "0               LN_ID      int64      0              0.00   61503   \n",
       "1              TARGET      int64      0              0.00       2   \n",
       "2       CONTRACT_TYPE     object      0              0.00       2   \n",
       "3              GENDER     object      0              0.00       2   \n",
       "4        NUM_CHILDREN      int64      0              0.00      10   \n",
       "5              INCOME    float64      0              0.00     861   \n",
       "6     APPROVED_CREDIT    float64      0              0.00    3562   \n",
       "7             ANNUITY    float64      1              0.00    9374   \n",
       "8               PRICE    float64     62              0.10     541   \n",
       "9         INCOME_TYPE     object      0              0.00       7   \n",
       "10          EDUCATION     object      0              0.00       5   \n",
       "11      FAMILY_STATUS     object      0              0.00       5   \n",
       "12       HOUSING_TYPE     object      0              0.00       6   \n",
       "13           DAYS_AGE      int64      0              0.00   16257   \n",
       "14          DAYS_WORK      int64      0              0.00    8524   \n",
       "15  DAYS_REGISTRATION    float64      0              0.00   13153   \n",
       "16     DAYS_ID_CHANGE      int64      0              0.00    5824   \n",
       "17     WEEKDAYS_APPLY     object      0              0.00       7   \n",
       "18         HOUR_APPLY      int64      0              0.00      24   \n",
       "19  ORGANIZATION_TYPE     object      0              0.00      58   \n",
       "20        EXT_SCORE_1    float64  34845             56.66   25814   \n",
       "21        EXT_SCORE_2    float64    134              0.22   46296   \n",
       "22        EXT_SCORE_3    float64  12239             19.90     744   \n",
       "\n",
       "                               Unique Sample  \n",
       "0                           [165485, 411237]  \n",
       "1                                     [1, 0]  \n",
       "2              [Cash loans, Revolving loans]  \n",
       "3                                     [M, F]  \n",
       "4                                     [7, 9]  \n",
       "5                       [186750.0, 369000.0]  \n",
       "6                      [1355004.0, 184081.5]  \n",
       "7                         [14733.0, 10332.0]  \n",
       "8                       [113724.0, 432000.0]  \n",
       "9                   [State servant, Working]  \n",
       "10     [Higher education, Incomplete higher]  \n",
       "11             [Single / not married, Widow]  \n",
       "12         [House / apartment, With parents]  \n",
       "13                           [-15627, -9838]  \n",
       "14                            [-2931, -2628]  \n",
       "15                         [-891.0, -8193.0]  \n",
       "16                            [-1267, -4401]  \n",
       "17                      [SATURDAY, THURSDAY]  \n",
       "18                                  [18, 11]  \n",
       "19           [Industry: type 12, Government]  \n",
       "20  [0.8733564389088037, 0.5587297881187979]  \n",
       "21   [0.6503124080458572, 0.319734409575234]  \n",
       "22   [0.8482442999507556, 0.445396241560834]  "
      ]
     },
     "execution_count": 4,
     "metadata": {},
     "output_type": "execute_result"
    }
   ],
   "source": [
    "Lender=[]\n",
    "\n",
    "for i in df.columns:\n",
    "    Lender.append([\n",
    "        i,\n",
    "        df[i].dtypes,\n",
    "        df[i].isna().sum(),\n",
    "        (((df[i].isna().sum())/len(df))*100).round(2),\n",
    "        df[i].nunique(),\n",
    "        df[i].drop_duplicates().sample(2).values\n",
    "    ])\n",
    "    \n",
    "pd.DataFrame(data=Lender,columns=[\n",
    "    'Data Feature', 'Data Types', 'Null','Null Percentages','Unique','Unique Sample'\n",
    "])"
   ]
  },
  {
   "cell_type": "markdown",
   "metadata": {},
   "source": [
    "## Mapping Correlation Map"
   ]
  },
  {
   "cell_type": "code",
   "execution_count": 5,
   "metadata": {},
   "outputs": [
    {
     "data": {
      "image/png": "[encoded data removed]",
      "text/plain": [
       "<Figure size 1440x1440 with 2 Axes>"
      ]
     },
     "metadata": {
      "needs_background": "light"
     },
     "output_type": "display_data"
    }
   ],
   "source": [
    "df.corr()\n",
    "\n",
    "plt.figure(figsize = (20, 20))\n",
    "sns.heatmap(df.corr(), annot = True)\n",
    "\n",
    "plt.show()"
   ]
  },
  {
   "cell_type": "markdown",
   "metadata": {},
   "source": [
    "### Converting all character in columns into lower case"
   ]
  },
  {
   "cell_type": "code",
   "execution_count": 6,
   "metadata": {},
   "outputs": [
    {
     "name": "stdout",
     "output_type": "stream",
     "text": [
      "<class 'pandas.core.frame.DataFrame'>\n",
      "RangeIndex: 61503 entries, 0 to 61502\n",
      "Data columns (total 23 columns):\n",
      " #   Column             Non-Null Count  Dtype  \n",
      "---  ------             --------------  -----  \n",
      " 0   ln_id              61503 non-null  int64  \n",
      " 1   target             61503 non-null  int64  \n",
      " 2   contract_type      61503 non-null  object \n",
      " 3   gender             61503 non-null  object \n",
      " 4   num_children       61503 non-null  int64  \n",
      " 5   income             61503 non-null  float64\n",
      " 6   approved_credit    61503 non-null  float64\n",
      " 7   annuity            61502 non-null  float64\n",
      " 8   price              61441 non-null  float64\n",
      " 9   income_type        61503 non-null  object \n",
      " 10  education          61503 non-null  object \n",
      " 11  family_status      61503 non-null  object \n",
      " 12  housing_type       61503 non-null  object \n",
      " 13  days_age           61503 non-null  int64  \n",
      " 14  days_work          61503 non-null  int64  \n",
      " 15  days_registration  61503 non-null  float64\n",
      " 16  days_id_change     61503 non-null  int64  \n",
      " 17  weekdays_apply     61503 non-null  object \n",
      " 18  hour_apply         61503 non-null  int64  \n",
      " 19  organization_type  61503 non-null  object \n",
      " 20  ext_score_1        26658 non-null  float64\n",
      " 21  ext_score_2        61369 non-null  float64\n",
      " 22  ext_score_3        49264 non-null  float64\n",
      "dtypes: float64(8), int64(7), object(8)\n",
      "memory usage: 10.8+ MB\n"
     ]
    }
   ],
   "source": [
    "df.columns = [i.lower() for i in df.columns]\n",
    "df.info()"
   ]
  },
  {
   "cell_type": "markdown",
   "metadata": {},
   "source": [
    "## Label Encoding all object data type"
   ]
  },
  {
   "cell_type": "code",
   "execution_count": 7,
   "metadata": {},
   "outputs": [
    {
     "data": {
      "text/html": [
       "<div>\n",
       "<style scoped>\n",
       "    .dataframe tbody tr th:only-of-type {\n",
       "        vertical-align: middle;\n",
       "    }\n",
       "\n",
       "    .dataframe tbody tr th {\n",
       "        vertical-align: top;\n",
       "    }\n",
       "\n",
       "    .dataframe thead th {\n",
       "        text-align: right;\n",
       "    }\n",
       "</style>\n",
       "<table border=\"1\" class=\"dataframe\">\n",
       "  <thead>\n",
       "    <tr style=\"text-align: right;\">\n",
       "      <th></th>\n",
       "      <th>ln_id</th>\n",
       "      <th>target</th>\n",
       "      <th>num_children</th>\n",
       "      <th>income</th>\n",
       "      <th>approved_credit</th>\n",
       "      <th>annuity</th>\n",
       "      <th>price</th>\n",
       "      <th>days_age</th>\n",
       "      <th>days_work</th>\n",
       "      <th>days_registration</th>\n",
       "      <th>...</th>\n",
       "      <th>ext_score_2</th>\n",
       "      <th>ext_score_3</th>\n",
       "      <th>contract_type_encoded</th>\n",
       "      <th>gender_encoded</th>\n",
       "      <th>income_type_encoded</th>\n",
       "      <th>education_encoded</th>\n",
       "      <th>family_status_encoded</th>\n",
       "      <th>housing_type_encoded</th>\n",
       "      <th>weekdays_apply_encoded</th>\n",
       "      <th>organization_type_encoded</th>\n",
       "    </tr>\n",
       "  </thead>\n",
       "  <tbody>\n",
       "    <tr>\n",
       "      <th>0</th>\n",
       "      <td>333538</td>\n",
       "      <td>0</td>\n",
       "      <td>1</td>\n",
       "      <td>67500.0</td>\n",
       "      <td>202500.0</td>\n",
       "      <td>10125.0</td>\n",
       "      <td>202500.0</td>\n",
       "      <td>-11539</td>\n",
       "      <td>-921</td>\n",
       "      <td>-119.0</td>\n",
       "      <td>...</td>\n",
       "      <td>0.608276</td>\n",
       "      <td>NaN</td>\n",
       "      <td>1</td>\n",
       "      <td>0</td>\n",
       "      <td>6</td>\n",
       "      <td>4</td>\n",
       "      <td>1</td>\n",
       "      <td>5</td>\n",
       "      <td>5</td>\n",
       "      <td>5</td>\n",
       "    </tr>\n",
       "    <tr>\n",
       "      <th>1</th>\n",
       "      <td>406644</td>\n",
       "      <td>0</td>\n",
       "      <td>1</td>\n",
       "      <td>202500.0</td>\n",
       "      <td>976711.5</td>\n",
       "      <td>49869.0</td>\n",
       "      <td>873000.0</td>\n",
       "      <td>-15743</td>\n",
       "      <td>-4482</td>\n",
       "      <td>-1797.0</td>\n",
       "      <td>...</td>\n",
       "      <td>0.684298</td>\n",
       "      <td>NaN</td>\n",
       "      <td>0</td>\n",
       "      <td>0</td>\n",
       "      <td>1</td>\n",
       "      <td>4</td>\n",
       "      <td>1</td>\n",
       "      <td>1</td>\n",
       "      <td>5</td>\n",
       "      <td>34</td>\n",
       "    </tr>\n",
       "    <tr>\n",
       "      <th>2</th>\n",
       "      <td>259130</td>\n",
       "      <td>0</td>\n",
       "      <td>0</td>\n",
       "      <td>180000.0</td>\n",
       "      <td>407520.0</td>\n",
       "      <td>25060.5</td>\n",
       "      <td>360000.0</td>\n",
       "      <td>-20775</td>\n",
       "      <td>365243</td>\n",
       "      <td>-8737.0</td>\n",
       "      <td>...</td>\n",
       "      <td>0.580687</td>\n",
       "      <td>0.749022</td>\n",
       "      <td>0</td>\n",
       "      <td>0</td>\n",
       "      <td>2</td>\n",
       "      <td>4</td>\n",
       "      <td>1</td>\n",
       "      <td>1</td>\n",
       "      <td>4</td>\n",
       "      <td>33</td>\n",
       "    </tr>\n",
       "    <tr>\n",
       "      <th>3</th>\n",
       "      <td>411997</td>\n",
       "      <td>0</td>\n",
       "      <td>0</td>\n",
       "      <td>225000.0</td>\n",
       "      <td>808650.0</td>\n",
       "      <td>26086.5</td>\n",
       "      <td>675000.0</td>\n",
       "      <td>-20659</td>\n",
       "      <td>-10455</td>\n",
       "      <td>-4998.0</td>\n",
       "      <td>...</td>\n",
       "      <td>0.623740</td>\n",
       "      <td>0.710674</td>\n",
       "      <td>0</td>\n",
       "      <td>1</td>\n",
       "      <td>3</td>\n",
       "      <td>1</td>\n",
       "      <td>1</td>\n",
       "      <td>1</td>\n",
       "      <td>6</td>\n",
       "      <td>8</td>\n",
       "    </tr>\n",
       "    <tr>\n",
       "      <th>4</th>\n",
       "      <td>241559</td>\n",
       "      <td>0</td>\n",
       "      <td>0</td>\n",
       "      <td>135000.0</td>\n",
       "      <td>180000.0</td>\n",
       "      <td>9000.0</td>\n",
       "      <td>180000.0</td>\n",
       "      <td>-9013</td>\n",
       "      <td>-1190</td>\n",
       "      <td>-3524.0</td>\n",
       "      <td>...</td>\n",
       "      <td>0.492994</td>\n",
       "      <td>0.085595</td>\n",
       "      <td>1</td>\n",
       "      <td>1</td>\n",
       "      <td>1</td>\n",
       "      <td>4</td>\n",
       "      <td>3</td>\n",
       "      <td>1</td>\n",
       "      <td>3</td>\n",
       "      <td>7</td>\n",
       "    </tr>\n",
       "  </tbody>\n",
       "</table>\n",
       "<p>5 rows × 23 columns</p>\n",
       "</div>"
      ],
      "text/plain": [
       "    ln_id  target  num_children    income  approved_credit  annuity     price  \\\n",
       "0  333538       0             1   67500.0         202500.0  10125.0  202500.0   \n",
       "1  406644       0             1  202500.0         976711.5  49869.0  873000.0   \n",
       "2  259130       0             0  180000.0         407520.0  25060.5  360000.0   \n",
       "3  411997       0             0  225000.0         808650.0  26086.5  675000.0   \n",
       "4  241559       0             0  135000.0         180000.0   9000.0  180000.0   \n",
       "\n",
       "   days_age  days_work  days_registration  ...  ext_score_2  ext_score_3  \\\n",
       "0    -11539       -921             -119.0  ...     0.608276          NaN   \n",
       "1    -15743      -4482            -1797.0  ...     0.684298          NaN   \n",
       "2    -20775     365243            -8737.0  ...     0.580687     0.749022   \n",
       "3    -20659     -10455            -4998.0  ...     0.623740     0.710674   \n",
       "4     -9013      -1190            -3524.0  ...     0.492994     0.085595   \n",
       "\n",
       "   contract_type_encoded  gender_encoded  income_type_encoded  \\\n",
       "0                      1               0                    6   \n",
       "1                      0               0                    1   \n",
       "2                      0               0                    2   \n",
       "3                      0               1                    3   \n",
       "4                      1               1                    1   \n",
       "\n",
       "   education_encoded  family_status_encoded  housing_type_encoded  \\\n",
       "0                  4                      1                     5   \n",
       "1                  4                      1                     1   \n",
       "2                  4                      1                     1   \n",
       "3                  1                      1                     1   \n",
       "4                  4                      3                     1   \n",
       "\n",
       "   weekdays_apply_encoded  organization_type_encoded  \n",
       "0                       5                          5  \n",
       "1                       5                         34  \n",
       "2                       4                         33  \n",
       "3                       6                          8  \n",
       "4                       3                          7  \n",
       "\n",
       "[5 rows x 23 columns]"
      ]
     },
     "execution_count": 7,
     "metadata": {},
     "output_type": "execute_result"
    }
   ],
   "source": [
    "le = LabelEncoder()\n",
    "\n",
    "cat_cols = [i for i in df.columns if df[i].dtype == 'object']\n",
    "\n",
    "for col_name in cat_cols:\n",
    "    col_name_encoded = col_name + '_encoded'\n",
    "    df[col_name_encoded] = le.fit_transform(df[col_name])\n",
    "    df = df.drop(columns=[col_name])\n",
    "    \n",
    "df.head()"
   ]
  },
  {
   "cell_type": "code",
   "execution_count": 8,
   "metadata": {},
   "outputs": [
    {
     "data": {
      "text/html": [
       "<div>\n",
       "<style scoped>\n",
       "    .dataframe tbody tr th:only-of-type {\n",
       "        vertical-align: middle;\n",
       "    }\n",
       "\n",
       "    .dataframe tbody tr th {\n",
       "        vertical-align: top;\n",
       "    }\n",
       "\n",
       "    .dataframe thead th {\n",
       "        text-align: right;\n",
       "    }\n",
       "</style>\n",
       "<table border=\"1\" class=\"dataframe\">\n",
       "  <thead>\n",
       "    <tr style=\"text-align: right;\">\n",
       "      <th></th>\n",
       "      <th>Data Feature</th>\n",
       "      <th>Data Types</th>\n",
       "      <th>Null</th>\n",
       "      <th>Null Percentages</th>\n",
       "      <th>Unique</th>\n",
       "    </tr>\n",
       "  </thead>\n",
       "  <tbody>\n",
       "    <tr>\n",
       "      <th>0</th>\n",
       "      <td>ln_id</td>\n",
       "      <td>int64</td>\n",
       "      <td>0</td>\n",
       "      <td>0.00</td>\n",
       "      <td>61503</td>\n",
       "    </tr>\n",
       "    <tr>\n",
       "      <th>1</th>\n",
       "      <td>target</td>\n",
       "      <td>int64</td>\n",
       "      <td>0</td>\n",
       "      <td>0.00</td>\n",
       "      <td>2</td>\n",
       "    </tr>\n",
       "    <tr>\n",
       "      <th>2</th>\n",
       "      <td>num_children</td>\n",
       "      <td>int64</td>\n",
       "      <td>0</td>\n",
       "      <td>0.00</td>\n",
       "      <td>10</td>\n",
       "    </tr>\n",
       "    <tr>\n",
       "      <th>3</th>\n",
       "      <td>income</td>\n",
       "      <td>float64</td>\n",
       "      <td>0</td>\n",
       "      <td>0.00</td>\n",
       "      <td>861</td>\n",
       "    </tr>\n",
       "    <tr>\n",
       "      <th>4</th>\n",
       "      <td>approved_credit</td>\n",
       "      <td>float64</td>\n",
       "      <td>0</td>\n",
       "      <td>0.00</td>\n",
       "      <td>3562</td>\n",
       "    </tr>\n",
       "    <tr>\n",
       "      <th>5</th>\n",
       "      <td>annuity</td>\n",
       "      <td>float64</td>\n",
       "      <td>1</td>\n",
       "      <td>0.00</td>\n",
       "      <td>9374</td>\n",
       "    </tr>\n",
       "    <tr>\n",
       "      <th>6</th>\n",
       "      <td>price</td>\n",
       "      <td>float64</td>\n",
       "      <td>62</td>\n",
       "      <td>0.10</td>\n",
       "      <td>541</td>\n",
       "    </tr>\n",
       "    <tr>\n",
       "      <th>7</th>\n",
       "      <td>days_age</td>\n",
       "      <td>int64</td>\n",
       "      <td>0</td>\n",
       "      <td>0.00</td>\n",
       "      <td>16257</td>\n",
       "    </tr>\n",
       "    <tr>\n",
       "      <th>8</th>\n",
       "      <td>days_work</td>\n",
       "      <td>int64</td>\n",
       "      <td>0</td>\n",
       "      <td>0.00</td>\n",
       "      <td>8524</td>\n",
       "    </tr>\n",
       "    <tr>\n",
       "      <th>9</th>\n",
       "      <td>days_registration</td>\n",
       "      <td>float64</td>\n",
       "      <td>0</td>\n",
       "      <td>0.00</td>\n",
       "      <td>13153</td>\n",
       "    </tr>\n",
       "    <tr>\n",
       "      <th>10</th>\n",
       "      <td>days_id_change</td>\n",
       "      <td>int64</td>\n",
       "      <td>0</td>\n",
       "      <td>0.00</td>\n",
       "      <td>5824</td>\n",
       "    </tr>\n",
       "    <tr>\n",
       "      <th>11</th>\n",
       "      <td>hour_apply</td>\n",
       "      <td>int64</td>\n",
       "      <td>0</td>\n",
       "      <td>0.00</td>\n",
       "      <td>24</td>\n",
       "    </tr>\n",
       "    <tr>\n",
       "      <th>12</th>\n",
       "      <td>ext_score_1</td>\n",
       "      <td>float64</td>\n",
       "      <td>34845</td>\n",
       "      <td>56.66</td>\n",
       "      <td>25814</td>\n",
       "    </tr>\n",
       "    <tr>\n",
       "      <th>13</th>\n",
       "      <td>ext_score_2</td>\n",
       "      <td>float64</td>\n",
       "      <td>134</td>\n",
       "      <td>0.22</td>\n",
       "      <td>46296</td>\n",
       "    </tr>\n",
       "    <tr>\n",
       "      <th>14</th>\n",
       "      <td>ext_score_3</td>\n",
       "      <td>float64</td>\n",
       "      <td>12239</td>\n",
       "      <td>19.90</td>\n",
       "      <td>744</td>\n",
       "    </tr>\n",
       "    <tr>\n",
       "      <th>15</th>\n",
       "      <td>contract_type_encoded</td>\n",
       "      <td>int32</td>\n",
       "      <td>0</td>\n",
       "      <td>0.00</td>\n",
       "      <td>2</td>\n",
       "    </tr>\n",
       "    <tr>\n",
       "      <th>16</th>\n",
       "      <td>gender_encoded</td>\n",
       "      <td>int32</td>\n",
       "      <td>0</td>\n",
       "      <td>0.00</td>\n",
       "      <td>2</td>\n",
       "    </tr>\n",
       "    <tr>\n",
       "      <th>17</th>\n",
       "      <td>income_type_encoded</td>\n",
       "      <td>int32</td>\n",
       "      <td>0</td>\n",
       "      <td>0.00</td>\n",
       "      <td>7</td>\n",
       "    </tr>\n",
       "    <tr>\n",
       "      <th>18</th>\n",
       "      <td>education_encoded</td>\n",
       "      <td>int32</td>\n",
       "      <td>0</td>\n",
       "      <td>0.00</td>\n",
       "      <td>5</td>\n",
       "    </tr>\n",
       "    <tr>\n",
       "      <th>19</th>\n",
       "      <td>family_status_encoded</td>\n",
       "      <td>int32</td>\n",
       "      <td>0</td>\n",
       "      <td>0.00</td>\n",
       "      <td>5</td>\n",
       "    </tr>\n",
       "    <tr>\n",
       "      <th>20</th>\n",
       "      <td>housing_type_encoded</td>\n",
       "      <td>int32</td>\n",
       "      <td>0</td>\n",
       "      <td>0.00</td>\n",
       "      <td>6</td>\n",
       "    </tr>\n",
       "    <tr>\n",
       "      <th>21</th>\n",
       "      <td>weekdays_apply_encoded</td>\n",
       "      <td>int32</td>\n",
       "      <td>0</td>\n",
       "      <td>0.00</td>\n",
       "      <td>7</td>\n",
       "    </tr>\n",
       "    <tr>\n",
       "      <th>22</th>\n",
       "      <td>organization_type_encoded</td>\n",
       "      <td>int32</td>\n",
       "      <td>0</td>\n",
       "      <td>0.00</td>\n",
       "      <td>58</td>\n",
       "    </tr>\n",
       "  </tbody>\n",
       "</table>\n",
       "</div>"
      ],
      "text/plain": [
       "                 Data Feature Data Types   Null  Null Percentages  Unique\n",
       "0                       ln_id      int64      0              0.00   61503\n",
       "1                      target      int64      0              0.00       2\n",
       "2                num_children      int64      0              0.00      10\n",
       "3                      income    float64      0              0.00     861\n",
       "4             approved_credit    float64      0              0.00    3562\n",
       "5                     annuity    float64      1              0.00    9374\n",
       "6                       price    float64     62              0.10     541\n",
       "7                    days_age      int64      0              0.00   16257\n",
       "8                   days_work      int64      0              0.00    8524\n",
       "9           days_registration    float64      0              0.00   13153\n",
       "10             days_id_change      int64      0              0.00    5824\n",
       "11                 hour_apply      int64      0              0.00      24\n",
       "12                ext_score_1    float64  34845             56.66   25814\n",
       "13                ext_score_2    float64    134              0.22   46296\n",
       "14                ext_score_3    float64  12239             19.90     744\n",
       "15      contract_type_encoded      int32      0              0.00       2\n",
       "16             gender_encoded      int32      0              0.00       2\n",
       "17        income_type_encoded      int32      0              0.00       7\n",
       "18          education_encoded      int32      0              0.00       5\n",
       "19      family_status_encoded      int32      0              0.00       5\n",
       "20       housing_type_encoded      int32      0              0.00       6\n",
       "21     weekdays_apply_encoded      int32      0              0.00       7\n",
       "22  organization_type_encoded      int32      0              0.00      58"
      ]
     },
     "execution_count": 8,
     "metadata": {},
     "output_type": "execute_result"
    }
   ],
   "source": [
    "Lender=[]\n",
    "\n",
    "for i in df.columns:\n",
    "    Lender.append([\n",
    "        i,\n",
    "        df[i].dtypes,\n",
    "        df[i].isna().sum(),\n",
    "        (((df[i].isna().sum())/len(df))*100).round(2),\n",
    "        df[i].nunique()\n",
    "    ])\n",
    "    \n",
    "pd.DataFrame(data=Lender,columns=[\n",
    "    'Data Feature', 'Data Types', 'Null','Null Percentages','Unique'])"
   ]
  },
  {
   "cell_type": "code",
   "execution_count": 9,
   "metadata": {},
   "outputs": [
    {
     "data": {
      "text/plain": [
       "ln_id                            0\n",
       "target                           0\n",
       "num_children                     0\n",
       "income                           0\n",
       "approved_credit                  0\n",
       "annuity                          1\n",
       "price                           62\n",
       "days_age                         0\n",
       "days_work                        0\n",
       "days_registration                0\n",
       "days_id_change                   0\n",
       "hour_apply                       0\n",
       "ext_score_1                  34845\n",
       "ext_score_2                    134\n",
       "ext_score_3                  12239\n",
       "contract_type_encoded            0\n",
       "gender_encoded                   0\n",
       "income_type_encoded              0\n",
       "education_encoded                0\n",
       "family_status_encoded            0\n",
       "housing_type_encoded             0\n",
       "weekdays_apply_encoded           0\n",
       "organization_type_encoded        0\n",
       "dtype: int64"
      ]
     },
     "execution_count": 9,
     "metadata": {},
     "output_type": "execute_result"
    }
   ],
   "source": [
    "df.isna().sum()"
   ]
  },
  {
   "cell_type": "code",
   "execution_count": 10,
   "metadata": {},
   "outputs": [
    {
     "data": {
      "text/plain": [
       "ln_id                        0\n",
       "target                       0\n",
       "num_children                 0\n",
       "income                       0\n",
       "approved_credit              0\n",
       "annuity                      0\n",
       "price                        0\n",
       "days_age                     0\n",
       "days_work                    0\n",
       "days_registration            0\n",
       "days_id_change               0\n",
       "hour_apply                   0\n",
       "ext_score_1                  0\n",
       "ext_score_2                  0\n",
       "ext_score_3                  0\n",
       "contract_type_encoded        0\n",
       "gender_encoded               0\n",
       "income_type_encoded          0\n",
       "education_encoded            0\n",
       "family_status_encoded        0\n",
       "housing_type_encoded         0\n",
       "weekdays_apply_encoded       0\n",
       "organization_type_encoded    0\n",
       "dtype: int64"
      ]
     },
     "execution_count": 10,
     "metadata": {},
     "output_type": "execute_result"
    }
   ],
   "source": [
    "df.dropna(inplace=True)\n",
    "\n",
    "df.isna().sum()"
   ]
  },
  {
   "cell_type": "markdown",
   "metadata": {},
   "source": [
    "## Checking target columns"
   ]
  },
  {
   "cell_type": "code",
   "execution_count": 11,
   "metadata": {},
   "outputs": [
    {
     "data": {
      "text/html": [
       "<div>\n",
       "<style scoped>\n",
       "    .dataframe tbody tr th:only-of-type {\n",
       "        vertical-align: middle;\n",
       "    }\n",
       "\n",
       "    .dataframe tbody tr th {\n",
       "        vertical-align: top;\n",
       "    }\n",
       "\n",
       "    .dataframe thead th {\n",
       "        text-align: right;\n",
       "    }\n",
       "</style>\n",
       "<table border=\"1\" class=\"dataframe\">\n",
       "  <thead>\n",
       "    <tr style=\"text-align: right;\">\n",
       "      <th>col_0</th>\n",
       "      <th>count</th>\n",
       "    </tr>\n",
       "    <tr>\n",
       "      <th>target</th>\n",
       "      <th></th>\n",
       "    </tr>\n",
       "  </thead>\n",
       "  <tbody>\n",
       "    <tr>\n",
       "      <th>0</th>\n",
       "      <td>92.716508</td>\n",
       "    </tr>\n",
       "    <tr>\n",
       "      <th>1</th>\n",
       "      <td>7.283492</td>\n",
       "    </tr>\n",
       "  </tbody>\n",
       "</table>\n",
       "</div>"
      ],
      "text/plain": [
       "col_0       count\n",
       "target           \n",
       "0       92.716508\n",
       "1        7.283492"
      ]
     },
     "execution_count": 11,
     "metadata": {},
     "output_type": "execute_result"
    }
   ],
   "source": [
    "df[\"target\"].value_counts()\n",
    "\n",
    "pd.crosstab(index=df['target'],columns='count',normalize=True)*100"
   ]
  },
  {
   "cell_type": "code",
   "execution_count": 12,
   "metadata": {},
   "outputs": [
    {
     "data": {
      "image/png": "[encoded data removed]",
      "text/plain": [
       "<Figure size 432x288 with 1 Axes>"
      ]
     },
     "metadata": {
      "needs_background": "light"
     },
     "output_type": "display_data"
    }
   ],
   "source": [
    "ax = sns.countplot(x=df['target'], data=df, palette='magma')\n",
    "\n",
    "plt.show()"
   ]
  },
  {
   "cell_type": "markdown",
   "metadata": {},
   "source": [
    "##### The target column is imbalanced, so it is needed to be handled properly. In this case, random oversampling will be applied"
   ]
  },
  {
   "cell_type": "markdown",
   "metadata": {},
   "source": [
    "# Target Engineering\n",
    "\n",
    "## Splitting Data"
   ]
  },
  {
   "cell_type": "code",
   "execution_count": 13,
   "metadata": {},
   "outputs": [],
   "source": [
    "from sklearn.model_selection import train_test_split, GridSearchCV, RandomizedSearchCV\n",
    "from sklearn.metrics import classification_report, confusion_matrix, f1_score,roc_auc_score, recall_score, precision_score, accuracy_score\n",
    "\n",
    "from sklearn.utils import resample"
   ]
  },
  {
   "cell_type": "code",
   "execution_count": 14,
   "metadata": {},
   "outputs": [],
   "source": [
    "X = df.drop(columns=['target'])\n",
    "y = df['target']\n",
    "\n",
    "X_train, X_test, y_train, y_test = train_test_split(X, y, stratify = y, train_size = .8, random_state=42)"
   ]
  },
  {
   "cell_type": "code",
   "execution_count": 15,
   "metadata": {},
   "outputs": [
    {
     "data": {
      "text/plain": [
       "(17431, 22)"
      ]
     },
     "execution_count": 15,
     "metadata": {},
     "output_type": "execute_result"
    }
   ],
   "source": [
    "X_train.shape"
   ]
  },
  {
   "cell_type": "code",
   "execution_count": 16,
   "metadata": {},
   "outputs": [
    {
     "data": {
      "text/plain": [
       "(4358, 22)"
      ]
     },
     "execution_count": 16,
     "metadata": {},
     "output_type": "execute_result"
    }
   ],
   "source": [
    "X_test.shape"
   ]
  },
  {
   "cell_type": "code",
   "execution_count": 17,
   "metadata": {},
   "outputs": [
    {
     "data": {
      "text/plain": [
       "0    16161\n",
       "1     1270\n",
       "Name: target, dtype: int64"
      ]
     },
     "execution_count": 17,
     "metadata": {},
     "output_type": "execute_result"
    }
   ],
   "source": [
    "df_train = pd.concat([X_train, y_train], axis=1)\n",
    "\n",
    "df_train['target'].value_counts()"
   ]
  },
  {
   "cell_type": "code",
   "execution_count": 18,
   "metadata": {},
   "outputs": [],
   "source": [
    "non_troubledlender = df_train[df_train['target'] == 0] ##  Majority class\n",
    "troubledlender = df_train[df_train['target'] == 1] ##  Minority class"
   ]
  },
  {
   "cell_type": "markdown",
   "metadata": {},
   "source": [
    "## Handling Imbalanced Data\n",
    "\n",
    "### Random Oversampling "
   ]
  },
  {
   "cell_type": "code",
   "execution_count": 19,
   "metadata": {},
   "outputs": [
    {
     "data": {
      "text/plain": [
       "1    16161\n",
       "0    16161\n",
       "Name: target, dtype: int64"
      ]
     },
     "execution_count": 19,
     "metadata": {},
     "output_type": "execute_result"
    }
   ],
   "source": [
    "troubledlender_oversample = resample(troubledlender, ## Minority\n",
    "                           replace=True,\n",
    "                           n_samples = len(non_troubledlender), ## Sum of Majority class\n",
    "                           random_state = 42)\n",
    "\n",
    "df_OverSampled = pd.concat([non_troubledlender, troubledlender_oversample])\n",
    "\n",
    "df_OverSampled['target'].value_counts()"
   ]
  },
  {
   "cell_type": "code",
   "execution_count": 20,
   "metadata": {},
   "outputs": [],
   "source": [
    "X_train_OverSampled = df_OverSampled.drop(columns=['target'])\n",
    "y_train_OverSampled = df_OverSampled['target']"
   ]
  },
  {
   "cell_type": "markdown",
   "metadata": {},
   "source": [
    "# MODELING"
   ]
  },
  {
   "cell_type": "code",
   "execution_count": 21,
   "metadata": {},
   "outputs": [],
   "source": [
    "from sklearn.neighbors import KNeighborsClassifier\n",
    "from sklearn.linear_model import LogisticRegression\n",
    "from sklearn.tree import DecisionTreeClassifier\n",
    "from sklearn.ensemble import RandomForestClassifier"
   ]
  },
  {
   "cell_type": "markdown",
   "metadata": {},
   "source": [
    "## KNN - Classifier"
   ]
  },
  {
   "cell_type": "code",
   "execution_count": 22,
   "metadata": {},
   "outputs": [
    {
     "name": "stdout",
     "output_type": "stream",
     "text": [
      "              precision    recall  f1-score   support\n",
      "\n",
      "           0       0.93      0.80      0.86      4041\n",
      "           1       0.08      0.22      0.12       317\n",
      "\n",
      "    accuracy                           0.76      4358\n",
      "   macro avg       0.50      0.51      0.49      4358\n",
      "weighted avg       0.87      0.76      0.81      4358\n",
      "\n",
      "\n",
      "\n",
      "acc score:  0.7574575493345571\n",
      "recall score:  0.22082018927444794\n",
      "precision score:  0.07954545454545454\n",
      "f1 score:  0.11695906432748536\n",
      "\n",
      "\n",
      "train accuracy KNN base:  0.8678790660317824\n",
      "test accuracy KNN base:  1.0\n",
      "\n",
      "\n",
      "       Pred 1  Pred 0\n",
      "Akt 1      70     247\n",
      "Akt 0     810    3231\n"
     ]
    },
    {
     "data": {
      "image/png": "[encoded data removed]",
      "text/plain": [
       "<Figure size 432x288 with 2 Axes>"
      ]
     },
     "metadata": {
      "needs_background": "light"
     },
     "output_type": "display_data"
    }
   ],
   "source": [
    "KNN = KNeighborsClassifier()\n",
    "\n",
    "KNN.fit(X_train_OverSampled, y_train_OverSampled)\n",
    "\n",
    "KNN_predict = KNN.predict(X_test)\n",
    "\n",
    "print(classification_report(y_test, KNN_predict))\n",
    "\n",
    "acc_base_KNN = accuracy_score(y_test, KNN_predict)\n",
    "recall_base_KNN = recall_score(y_test, KNN_predict)\n",
    "precision_base_KNN = precision_score(y_test, KNN_predict)\n",
    "f1_base_KNN = f1_score(y_test, KNN_predict)\n",
    "\n",
    "\n",
    "print('\\n\\nacc score: ', acc_base_KNN)\n",
    "print('recall score: ', recall_base_KNN)\n",
    "print('precision score: ', precision_base_KNN)\n",
    "print('f1 score: ', f1_base_KNN)\n",
    "\n",
    "print('\\n\\ntrain accuracy KNN base: ', KNN.score(X_train, y_train))\n",
    "print('test accuracy KNN base: ', KNN.score(X_test, KNN_predict))\n",
    "print()\n",
    "print()\n",
    "\n",
    "KNN_CM = confusion_matrix(y_test, KNN_predict, labels=[1 , 0])\n",
    "print(pd.DataFrame(data=KNN_CM, index=[\"Akt 1\" ,\"Akt 0\"], columns=[\"Pred 1\", \"Pred 0\"]))\n",
    "\n",
    "KNN_DF = pd.DataFrame(data=KNN_CM, index=[\"Akt 1\" ,\"Akt 0\"], columns=[\"Pred 1\", \"Pred 0\"])\n",
    "sns.heatmap(KNN_DF, annot=True)\n",
    "plt.show()"
   ]
  },
  {
   "cell_type": "markdown",
   "metadata": {},
   "source": [
    "## Logistic Regression"
   ]
  },
  {
   "cell_type": "code",
   "execution_count": 23,
   "metadata": {},
   "outputs": [
    {
     "name": "stdout",
     "output_type": "stream",
     "text": [
      "              precision    recall  f1-score   support\n",
      "\n",
      "           0       0.94      0.59      0.72      4041\n",
      "           1       0.09      0.53      0.16       317\n",
      "\n",
      "    accuracy                           0.59      4358\n",
      "   macro avg       0.52      0.56      0.44      4358\n",
      "weighted avg       0.88      0.59      0.68      4358\n",
      "\n",
      "\n",
      "\n",
      "acc score:  0.5851307939421753\n",
      "recall score:  0.5331230283911672\n",
      "precision score:  0.09240021869874249\n",
      "f1 score:  0.15750232991612304\n",
      "\n",
      "\n",
      "train accuracy LogReg base:  0.5915323274625667\n",
      "test accuracy LogReg base:  1.0\n",
      "\n",
      "\n",
      "       Pred 1  Pred 0\n",
      "Akt 1     169     148\n",
      "Akt 0    1660    2381\n"
     ]
    },
    {
     "data": {
      "image/png": "[encoded data removed]",
      "text/plain": [
       "<Figure size 432x288 with 2 Axes>"
      ]
     },
     "metadata": {
      "needs_background": "light"
     },
     "output_type": "display_data"
    }
   ],
   "source": [
    "LogReg = LogisticRegression()\n",
    "\n",
    "LogReg.fit(X_train_OverSampled, y_train_OverSampled)\n",
    "\n",
    "LogReg_predict = LogReg.predict(X_test)\n",
    "\n",
    "print(classification_report(y_test, LogReg_predict))\n",
    "\n",
    "acc_base_LogReg = accuracy_score(y_test, LogReg_predict)\n",
    "recall_base_LogReg = recall_score(y_test, LogReg_predict)\n",
    "precision_base_LogReg= precision_score(y_test, LogReg_predict)\n",
    "f1_base_LogReg = f1_score(y_test, LogReg_predict)\n",
    "\n",
    "\n",
    "print('\\n\\nacc score: ', acc_base_LogReg)\n",
    "print('recall score: ', recall_base_LogReg)\n",
    "print('precision score: ', precision_base_LogReg)\n",
    "print('f1 score: ', f1_base_LogReg)\n",
    "\n",
    "print('\\n\\ntrain accuracy LogReg base: ', LogReg.score(X_train, y_train))\n",
    "print('test accuracy LogReg base: ', LogReg.score(X_test, LogReg_predict))\n",
    "print()\n",
    "print()\n",
    "\n",
    "LogReg_CM = confusion_matrix(y_test, LogReg_predict, labels=[1 , 0])\n",
    "print(pd.DataFrame(data=LogReg_CM, index=[\"Akt 1\" ,\"Akt 0\"], columns=[\"Pred 1\", \"Pred 0\"]))\n",
    "\n",
    "LogReg_DF = pd.DataFrame(data=LogReg_CM, index=[\"Akt 1\" ,\"Akt 0\"], columns=[\"Pred 1\", \"Pred 0\"])\n",
    "sns.heatmap(LogReg_DF, annot=True)\n",
    "plt.show()"
   ]
  },
  {
   "cell_type": "markdown",
   "metadata": {},
   "source": [
    "## Decission Tree Classifier"
   ]
  },
  {
   "cell_type": "code",
   "execution_count": 24,
   "metadata": {},
   "outputs": [
    {
     "name": "stdout",
     "output_type": "stream",
     "text": [
      "              precision    recall  f1-score   support\n",
      "\n",
      "           0       0.93      0.93      0.93      4041\n",
      "           1       0.10      0.10      0.10       317\n",
      "\n",
      "    accuracy                           0.87      4358\n",
      "   macro avg       0.51      0.51      0.51      4358\n",
      "weighted avg       0.87      0.87      0.87      4358\n",
      "\n",
      "\n",
      "\n",
      "acc score:  0.869894446994034\n",
      "recall score:  0.09779179810725552\n",
      "precision score:  0.09935897435897435\n",
      "f1 score:  0.0985691573926868\n",
      "\n",
      "\n",
      "train accuracy DT base:  1.0\n",
      "test accuracy DT base:  1.0\n",
      "\n",
      "\n",
      "       Pred 1  Pred 0\n",
      "Akt 1      31     286\n",
      "Akt 0     281    3760\n"
     ]
    },
    {
     "data": {
      "image/png": "[encoded data removed]",
      "text/plain": [
       "<Figure size 432x288 with 2 Axes>"
      ]
     },
     "metadata": {
      "needs_background": "light"
     },
     "output_type": "display_data"
    }
   ],
   "source": [
    "DT = DecisionTreeClassifier()\n",
    "\n",
    "DT.fit(X_train_OverSampled, y_train_OverSampled)\n",
    "\n",
    "DT_predict = DT.predict(X_test)\n",
    "\n",
    "print(classification_report(y_test, DT_predict))\n",
    "\n",
    "acc_base_DT = accuracy_score(y_test, DT_predict)\n",
    "recall_base_DT = recall_score(y_test, DT_predict)\n",
    "precision_base_DT= precision_score(y_test, DT_predict)\n",
    "f1_base_DT = f1_score(y_test, DT_predict)\n",
    "\n",
    "\n",
    "print('\\n\\nacc score: ', acc_base_DT)\n",
    "print('recall score: ', recall_base_DT)\n",
    "print('precision score: ', precision_base_DT)\n",
    "print('f1 score: ', f1_base_DT)\n",
    "\n",
    "print('\\n\\ntrain accuracy DT base: ', DT.score(X_train, y_train))\n",
    "print('test accuracy DT base: ', DT.score(X_test, DT_predict))\n",
    "print()\n",
    "print()\n",
    "\n",
    "DT_CM = confusion_matrix(y_test, DT_predict, labels=[1 , 0])\n",
    "print(pd.DataFrame(data=DT_CM, index=[\"Akt 1\" ,\"Akt 0\"], columns=[\"Pred 1\", \"Pred 0\"]))\n",
    "\n",
    "DT_DF = pd.DataFrame(data=DT_CM, index=[\"Akt 1\" ,\"Akt 0\"], columns=[\"Pred 1\", \"Pred 0\"])\n",
    "sns.heatmap(DT_DF, annot=True)\n",
    "plt.show()"
   ]
  },
  {
   "cell_type": "markdown",
   "metadata": {},
   "source": [
    "### Random Forest Classifier"
   ]
  },
  {
   "cell_type": "code",
   "execution_count": 25,
   "metadata": {},
   "outputs": [
    {
     "name": "stdout",
     "output_type": "stream",
     "text": [
      "              precision    recall  f1-score   support\n",
      "\n",
      "           0       0.93      1.00      0.96      4041\n",
      "           1       0.44      0.01      0.02       317\n",
      "\n",
      "    accuracy                           0.93      4358\n",
      "   macro avg       0.69      0.51      0.49      4358\n",
      "weighted avg       0.89      0.93      0.89      4358\n",
      "\n",
      "\n",
      "\n",
      "acc score:  0.927030748049564\n",
      "recall score:  0.012618296529968454\n",
      "precision score:  0.4444444444444444\n",
      "f1 score:  0.024539877300613498\n",
      "\n",
      "\n",
      "train accuracy RF base:  1.0\n",
      "test accuracy RF base:  1.0\n",
      "\n",
      "\n",
      "       Pred 1  Pred 0\n",
      "Akt 1       4     313\n",
      "Akt 0       5    4036\n"
     ]
    },
    {
     "data": {
      "image/png": "[encoded data removed]",
      "text/plain": [
       "<Figure size 432x288 with 2 Axes>"
      ]
     },
     "metadata": {
      "needs_background": "light"
     },
     "output_type": "display_data"
    }
   ],
   "source": [
    "RF = RandomForestClassifier()\n",
    "\n",
    "RF.fit(X_train_OverSampled, y_train_OverSampled)\n",
    "\n",
    "RF_predict = RF.predict(X_test)\n",
    "\n",
    "print(classification_report(y_test, RF_predict))\n",
    "\n",
    "acc_base_RF = accuracy_score(y_test, RF_predict)\n",
    "recall_base_RF = recall_score(y_test, RF_predict)\n",
    "precision_base_RF = precision_score(y_test, RF_predict)\n",
    "f1_base_RF = f1_score(y_test, RF_predict)\n",
    "\n",
    "\n",
    "print('\\n\\nacc score: ', acc_base_RF)\n",
    "print('recall score: ', recall_base_RF)\n",
    "print('precision score: ', precision_base_RF)\n",
    "print('f1 score: ', f1_base_RF)\n",
    "\n",
    "print('\\n\\ntrain accuracy RF base: ', RF.score(X_train, y_train))\n",
    "print('test accuracy RF base: ', RF.score(X_test, RF_predict))\n",
    "print()\n",
    "print()\n",
    "\n",
    "RF_CM = confusion_matrix(y_test, RF_predict, labels=[1 , 0])\n",
    "print(pd.DataFrame(data=RF_CM, index=[\"Akt 1\" ,\"Akt 0\"], columns=[\"Pred 1\", \"Pred 0\"]))\n",
    "\n",
    "RF_DF = pd.DataFrame(data=RF_CM, index=[\"Akt 1\" ,\"Akt 0\"], columns=[\"Pred 1\", \"Pred 0\"])\n",
    "sns.heatmap(RF_DF, annot=True)\n",
    "plt.show()"
   ]
  },
  {
   "cell_type": "code",
   "execution_count": 26,
   "metadata": {},
   "outputs": [
    {
     "data": {
      "text/html": [
       "<div>\n",
       "<style scoped>\n",
       "    .dataframe tbody tr th:only-of-type {\n",
       "        vertical-align: middle;\n",
       "    }\n",
       "\n",
       "    .dataframe tbody tr th {\n",
       "        vertical-align: top;\n",
       "    }\n",
       "\n",
       "    .dataframe thead th {\n",
       "        text-align: right;\n",
       "    }\n",
       "</style>\n",
       "<table border=\"1\" class=\"dataframe\">\n",
       "  <thead>\n",
       "    <tr style=\"text-align: right;\">\n",
       "      <th></th>\n",
       "      <th>Accuracy</th>\n",
       "      <th>Precision</th>\n",
       "      <th>Recall</th>\n",
       "      <th>F1 Score</th>\n",
       "      <th>Train Model Accuracy</th>\n",
       "    </tr>\n",
       "  </thead>\n",
       "  <tbody>\n",
       "    <tr>\n",
       "      <th>K Nearest Neighbors</th>\n",
       "      <td>0.757458</td>\n",
       "      <td>0.079545</td>\n",
       "      <td>0.220820</td>\n",
       "      <td>0.116959</td>\n",
       "      <td>0.867879</td>\n",
       "    </tr>\n",
       "    <tr>\n",
       "      <th>Logistic Regression</th>\n",
       "      <td>0.585131</td>\n",
       "      <td>0.092400</td>\n",
       "      <td>0.533123</td>\n",
       "      <td>0.157502</td>\n",
       "      <td>0.591532</td>\n",
       "    </tr>\n",
       "    <tr>\n",
       "      <th>Decission Tree</th>\n",
       "      <td>0.869894</td>\n",
       "      <td>0.099359</td>\n",
       "      <td>0.097792</td>\n",
       "      <td>0.098569</td>\n",
       "      <td>1.000000</td>\n",
       "    </tr>\n",
       "    <tr>\n",
       "      <th>Random Forest</th>\n",
       "      <td>0.927031</td>\n",
       "      <td>0.444444</td>\n",
       "      <td>0.012618</td>\n",
       "      <td>0.024540</td>\n",
       "      <td>1.000000</td>\n",
       "    </tr>\n",
       "  </tbody>\n",
       "</table>\n",
       "</div>"
      ],
      "text/plain": [
       "                     Accuracy  Precision    Recall  F1 Score  \\\n",
       "K Nearest Neighbors  0.757458   0.079545  0.220820  0.116959   \n",
       "Logistic Regression  0.585131   0.092400  0.533123  0.157502   \n",
       "Decission Tree       0.869894   0.099359  0.097792  0.098569   \n",
       "Random Forest        0.927031   0.444444  0.012618  0.024540   \n",
       "\n",
       "                     Train Model Accuracy  \n",
       "K Nearest Neighbors              0.867879  \n",
       "Logistic Regression              0.591532  \n",
       "Decission Tree                   1.000000  \n",
       "Random Forest                    1.000000  "
      ]
     },
     "execution_count": 26,
     "metadata": {},
     "output_type": "execute_result"
    }
   ],
   "source": [
    "data = {\n",
    "    \"K Nearest Neighbors\" : [acc_base_KNN, precision_base_KNN, recall_base_KNN, f1_base_KNN,(KNN.score(X_train, y_train))],\n",
    "    \"Logistic Regression\" : [acc_base_LogReg, precision_base_LogReg, recall_base_LogReg, f1_base_LogReg,LogReg.score(X_train, y_train)],\n",
    "    \"Decission Tree\" : [acc_base_DT, precision_base_DT, recall_base_DT, f1_base_DT,DT.score(X_train, y_train)],\n",
    "    \"Random Forest\"  : [acc_base_RF, precision_base_RF, recall_base_RF, f1_base_RF,RF.score(X_train, y_train)]\n",
    "}\n",
    "\n",
    "pd.DataFrame(data=data, index=['Accuracy', 'Precision', 'Recall', 'F1 Score','Train Model Accuracy']).T"
   ]
  },
  {
   "cell_type": "markdown",
   "metadata": {},
   "source": [
    "**Since we want to focus on minimizing False Positive, so Precision is used as our main metric. According to our models, Random Forest Base Model is used, for the reason having highest precision score.**"
   ]
  },
  {
   "cell_type": "markdown",
   "metadata": {},
   "source": [
    "# EXPORT MODEL"
   ]
  },
  {
   "cell_type": "code",
   "execution_count": 27,
   "metadata": {},
   "outputs": [
    {
     "data": {
      "text/plain": [
       "['modelRF']"
      ]
     },
     "execution_count": 27,
     "metadata": {},
     "output_type": "execute_result"
    }
   ],
   "source": [
    "import joblib\n",
    "\n",
    "joblib.dump(RF,'modelRF')"
   ]
  },
  {
   "cell_type": "markdown",
   "metadata": {},
   "source": [
    "# Ranking Applicant"
   ]
  },
  {
   "cell_type": "markdown",
   "metadata": {},
   "source": [
    "### Testing with app_test"
   ]
  },
  {
   "cell_type": "code",
   "execution_count": 28,
   "metadata": {},
   "outputs": [
    {
     "name": "stdout",
     "output_type": "stream",
     "text": [
      "(5286, 23)\n"
     ]
    }
   ],
   "source": [
    "app_test = pd.read_csv('app_test.csv')\n",
    "app_test = app_test.drop(['Unnamed: 0'], axis=1)\n",
    "app_test = app_test.dropna()\n",
    "print(app_test.shape)"
   ]
  },
  {
   "cell_type": "markdown",
   "metadata": {},
   "source": [
    "### Export Model"
   ]
  },
  {
   "cell_type": "code",
   "execution_count": 29,
   "metadata": {},
   "outputs": [],
   "source": [
    "export_model = joblib.load(open('modelRF', 'rb'))"
   ]
  },
  {
   "cell_type": "markdown",
   "metadata": {},
   "source": [
    "### Label Encoding app_test dataset"
   ]
  },
  {
   "cell_type": "code",
   "execution_count": 30,
   "metadata": {},
   "outputs": [
    {
     "data": {
      "text/html": [
       "<div>\n",
       "<style scoped>\n",
       "    .dataframe tbody tr th:only-of-type {\n",
       "        vertical-align: middle;\n",
       "    }\n",
       "\n",
       "    .dataframe tbody tr th {\n",
       "        vertical-align: top;\n",
       "    }\n",
       "\n",
       "    .dataframe thead th {\n",
       "        text-align: right;\n",
       "    }\n",
       "</style>\n",
       "<table border=\"1\" class=\"dataframe\">\n",
       "  <thead>\n",
       "    <tr style=\"text-align: right;\">\n",
       "      <th></th>\n",
       "      <th>LN_ID</th>\n",
       "      <th>TARGET</th>\n",
       "      <th>NUM_CHILDREN</th>\n",
       "      <th>INCOME</th>\n",
       "      <th>APPROVED_CREDIT</th>\n",
       "      <th>ANNUITY</th>\n",
       "      <th>PRICE</th>\n",
       "      <th>DAYS_AGE</th>\n",
       "      <th>DAYS_WORK</th>\n",
       "      <th>DAYS_REGISTRATION</th>\n",
       "      <th>...</th>\n",
       "      <th>EXT_SCORE_2</th>\n",
       "      <th>EXT_SCORE_3</th>\n",
       "      <th>CONTRACT_TYPE_encoded</th>\n",
       "      <th>GENDER_encoded</th>\n",
       "      <th>INCOME_TYPE_encoded</th>\n",
       "      <th>EDUCATION_encoded</th>\n",
       "      <th>FAMILY_STATUS_encoded</th>\n",
       "      <th>HOUSING_TYPE_encoded</th>\n",
       "      <th>WEEKDAYS_APPLY_encoded</th>\n",
       "      <th>ORGANIZATION_TYPE_encoded</th>\n",
       "    </tr>\n",
       "  </thead>\n",
       "  <tbody>\n",
       "    <tr>\n",
       "      <th>2</th>\n",
       "      <td>180205</td>\n",
       "      <td>0</td>\n",
       "      <td>1</td>\n",
       "      <td>90000.0</td>\n",
       "      <td>247500.0</td>\n",
       "      <td>8887.5</td>\n",
       "      <td>247500.0</td>\n",
       "      <td>-18384</td>\n",
       "      <td>-2826</td>\n",
       "      <td>-8226</td>\n",
       "      <td>...</td>\n",
       "      <td>0.686312</td>\n",
       "      <td>0.758393</td>\n",
       "      <td>0</td>\n",
       "      <td>0</td>\n",
       "      <td>3</td>\n",
       "      <td>4</td>\n",
       "      <td>1</td>\n",
       "      <td>1</td>\n",
       "      <td>2</td>\n",
       "      <td>41</td>\n",
       "    </tr>\n",
       "    <tr>\n",
       "      <th>3</th>\n",
       "      <td>357381</td>\n",
       "      <td>0</td>\n",
       "      <td>2</td>\n",
       "      <td>112500.0</td>\n",
       "      <td>506889.0</td>\n",
       "      <td>24781.5</td>\n",
       "      <td>418500.0</td>\n",
       "      <td>-12170</td>\n",
       "      <td>-926</td>\n",
       "      <td>-916</td>\n",
       "      <td>...</td>\n",
       "      <td>0.266520</td>\n",
       "      <td>0.058826</td>\n",
       "      <td>0</td>\n",
       "      <td>1</td>\n",
       "      <td>3</td>\n",
       "      <td>4</td>\n",
       "      <td>1</td>\n",
       "      <td>1</td>\n",
       "      <td>4</td>\n",
       "      <td>33</td>\n",
       "    </tr>\n",
       "    <tr>\n",
       "      <th>4</th>\n",
       "      <td>271229</td>\n",
       "      <td>0</td>\n",
       "      <td>0</td>\n",
       "      <td>216000.0</td>\n",
       "      <td>450000.0</td>\n",
       "      <td>21888.0</td>\n",
       "      <td>450000.0</td>\n",
       "      <td>-10790</td>\n",
       "      <td>-577</td>\n",
       "      <td>-4640</td>\n",
       "      <td>...</td>\n",
       "      <td>0.610483</td>\n",
       "      <td>0.392774</td>\n",
       "      <td>0</td>\n",
       "      <td>1</td>\n",
       "      <td>3</td>\n",
       "      <td>2</td>\n",
       "      <td>1</td>\n",
       "      <td>1</td>\n",
       "      <td>1</td>\n",
       "      <td>5</td>\n",
       "    </tr>\n",
       "    <tr>\n",
       "      <th>5</th>\n",
       "      <td>374711</td>\n",
       "      <td>0</td>\n",
       "      <td>0</td>\n",
       "      <td>58500.0</td>\n",
       "      <td>135000.0</td>\n",
       "      <td>7321.5</td>\n",
       "      <td>135000.0</td>\n",
       "      <td>-10942</td>\n",
       "      <td>-3100</td>\n",
       "      <td>-3232</td>\n",
       "      <td>...</td>\n",
       "      <td>0.067371</td>\n",
       "      <td>0.199771</td>\n",
       "      <td>0</td>\n",
       "      <td>0</td>\n",
       "      <td>3</td>\n",
       "      <td>4</td>\n",
       "      <td>3</td>\n",
       "      <td>5</td>\n",
       "      <td>5</td>\n",
       "      <td>39</td>\n",
       "    </tr>\n",
       "    <tr>\n",
       "      <th>8</th>\n",
       "      <td>146009</td>\n",
       "      <td>0</td>\n",
       "      <td>0</td>\n",
       "      <td>112500.0</td>\n",
       "      <td>665892.0</td>\n",
       "      <td>19210.5</td>\n",
       "      <td>477000.0</td>\n",
       "      <td>-20625</td>\n",
       "      <td>365243</td>\n",
       "      <td>-741</td>\n",
       "      <td>...</td>\n",
       "      <td>0.673492</td>\n",
       "      <td>0.510090</td>\n",
       "      <td>0</td>\n",
       "      <td>0</td>\n",
       "      <td>1</td>\n",
       "      <td>4</td>\n",
       "      <td>1</td>\n",
       "      <td>1</td>\n",
       "      <td>1</td>\n",
       "      <td>32</td>\n",
       "    </tr>\n",
       "  </tbody>\n",
       "</table>\n",
       "<p>5 rows × 23 columns</p>\n",
       "</div>"
      ],
      "text/plain": [
       "    LN_ID  TARGET  NUM_CHILDREN    INCOME  APPROVED_CREDIT  ANNUITY     PRICE  \\\n",
       "2  180205       0             1   90000.0         247500.0   8887.5  247500.0   \n",
       "3  357381       0             2  112500.0         506889.0  24781.5  418500.0   \n",
       "4  271229       0             0  216000.0         450000.0  21888.0  450000.0   \n",
       "5  374711       0             0   58500.0         135000.0   7321.5  135000.0   \n",
       "8  146009       0             0  112500.0         665892.0  19210.5  477000.0   \n",
       "\n",
       "   DAYS_AGE  DAYS_WORK  DAYS_REGISTRATION  ...  EXT_SCORE_2  EXT_SCORE_3  \\\n",
       "2    -18384      -2826              -8226  ...     0.686312     0.758393   \n",
       "3    -12170       -926               -916  ...     0.266520     0.058826   \n",
       "4    -10790       -577              -4640  ...     0.610483     0.392774   \n",
       "5    -10942      -3100              -3232  ...     0.067371     0.199771   \n",
       "8    -20625     365243               -741  ...     0.673492     0.510090   \n",
       "\n",
       "   CONTRACT_TYPE_encoded  GENDER_encoded  INCOME_TYPE_encoded  \\\n",
       "2                      0               0                    3   \n",
       "3                      0               1                    3   \n",
       "4                      0               1                    3   \n",
       "5                      0               0                    3   \n",
       "8                      0               0                    1   \n",
       "\n",
       "   EDUCATION_encoded  FAMILY_STATUS_encoded  HOUSING_TYPE_encoded  \\\n",
       "2                  4                      1                     1   \n",
       "3                  4                      1                     1   \n",
       "4                  2                      1                     1   \n",
       "5                  4                      3                     5   \n",
       "8                  4                      1                     1   \n",
       "\n",
       "   WEEKDAYS_APPLY_encoded  ORGANIZATION_TYPE_encoded  \n",
       "2                       2                         41  \n",
       "3                       4                         33  \n",
       "4                       1                          5  \n",
       "5                       5                         39  \n",
       "8                       1                         32  \n",
       "\n",
       "[5 rows x 23 columns]"
      ]
     },
     "execution_count": 30,
     "metadata": {},
     "output_type": "execute_result"
    }
   ],
   "source": [
    "test = LabelEncoder()\n",
    "\n",
    "cat_cols = [i for i in app_test.columns if app_test[i].dtype == 'object']\n",
    "\n",
    "for col_name in cat_cols:\n",
    "    col_name_encoded = col_name + '_encoded'\n",
    "    app_test[col_name_encoded] = test.fit_transform(app_test[col_name])\n",
    "    app_test = app_test.drop(columns=[col_name])\n",
    "    \n",
    "app_test.head()"
   ]
  },
  {
   "cell_type": "markdown",
   "metadata": {},
   "source": [
    "## SPLITING DATA"
   ]
  },
  {
   "cell_type": "code",
   "execution_count": 31,
   "metadata": {},
   "outputs": [],
   "source": [
    "X_test = app_test.drop(columns=['TARGET'])\n",
    "y_test = app_test['TARGET']\n",
    "\n",
    "Prediction_proba = export_model.predict_proba(X_test)"
   ]
  },
  {
   "cell_type": "markdown",
   "metadata": {},
   "source": [
    "# Final Result"
   ]
  },
  {
   "cell_type": "code",
   "execution_count": 38,
   "metadata": {},
   "outputs": [
    {
     "name": "stdout",
     "output_type": "stream",
     "text": [
      "       LN_ID  Probability\n",
      "0     217305         0.64\n",
      "1     164492         0.57\n",
      "2     190097         0.55\n",
      "3     393398         0.54\n",
      "4     326641         0.54\n",
      "...      ...          ...\n",
      "5281  110115         0.00\n",
      "5282  229490         0.00\n",
      "5283  142630         0.00\n",
      "5284  365489         0.00\n",
      "5285  178303         0.00\n",
      "\n",
      "[5286 rows x 2 columns]\n"
     ]
    }
   ],
   "source": [
    "Ranking = pd.DataFrame()\n",
    "\n",
    "Ranking['LN_ID'] = app_test['LN_ID']\n",
    "Ranking['Probability'] = [i[1] for i in Prediction_proba]\n",
    "\n",
    "Ranking = Ranking.sort_values('Probability',ascending=False).reset_index(drop=True)\n",
    "print(Ranking)"
   ]
  },
  {
   "cell_type": "markdown",
   "metadata": {},
   "source": [
    "## ROC / AUC SCORE"
   ]
  },
  {
   "cell_type": "code",
   "execution_count": 37,
   "metadata": {},
   "outputs": [
    {
     "name": "stdout",
     "output_type": "stream",
     "text": [
      "No Skill Model: ROC AUC=0.500\n",
      "Trained Model: ROC AUC=0.494\n"
     ]
    },
    {
     "data": {
      "image/png": "[encoded data removed]",
      "text/plain": [
       "<Figure size 432x288 with 1 Axes>"
      ]
     },
     "metadata": {
      "needs_background": "light"
     },
     "output_type": "display_data"
    }
   ],
   "source": [
    "from sklearn.metrics import roc_curve\n",
    "from sklearn.metrics import roc_auc_score\n",
    "from sklearn.metrics import auc\n",
    "\n",
    "# no skill model\n",
    "ns_probs = [0 for _ in range(len(y_test))]\n",
    "\n",
    "# calculate scores\n",
    "ns_auc = roc_auc_score(y_test, ns_probs)\n",
    "lr_auc = roc_auc_score(y_test, Ranking['Probability'])\n",
    "\n",
    "# summarize scores\n",
    "print('No Skill Model: ROC AUC=%.3f' % (ns_auc))\n",
    "print('Trained Model: ROC AUC=%.3f' % (lr_auc))\n",
    "\n",
    "# calculate roc curves\n",
    "ns_fpr, ns_tpr, _ = roc_curve(y_test, ns_probs)\n",
    "lr_fpr, lr_tpr, _ = roc_curve(y_test, Ranking['Probability'])\n",
    "\n",
    "# plot the roc curve for the model\n",
    "plt.plot(ns_fpr, ns_tpr, linestyle='--', label='No Skill Model')\n",
    "plt.plot(lr_fpr, lr_tpr, marker='.', label='Trained Model')\n",
    "\n",
    "# axis labels\n",
    "plt.xlabel('False Positive Rate')\n",
    "plt.ylabel('True Positive Rate')\n",
    "\n",
    "# show the legend and plot\n",
    "plt.legend()\n",
    "plt.show()"
   ]
  }
 ],
 "metadata": {
  "kernelspec": {
   "display_name": "Python 3",
   "language": "python",
   "name": "python3"
  },
  "language_info": {
   "codemirror_mode": {
    "name": "ipython",
    "version": 3
   },
   "file_extension": ".py",
   "mimetype": "text/x-python",
   "name": "python",
   "nbconvert_exporter": "python",
   "pygments_lexer": "ipython3",
   "version": "3.8.5"
  }
 },
 "nbformat": 4,
 "nbformat_minor": 4
}
